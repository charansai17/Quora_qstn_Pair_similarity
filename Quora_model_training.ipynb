{
  "nbformat": 4,
  "nbformat_minor": 0,
  "metadata": {
    "kernelspec": {
      "display_name": "Python 3",
      "language": "python",
      "name": "python3"
    },
    "language_info": {
      "codemirror_mode": {
        "name": "ipython",
        "version": 3
      },
      "file_extension": ".py",
      "mimetype": "text/x-python",
      "name": "python",
      "nbconvert_exporter": "python",
      "pygments_lexer": "ipython3",
      "version": "3.7.3"
    },
    "colab": {
      "name": "Quora_model_training.ipynb",
      "provenance": [],
      "collapsed_sections": [
        "7VRJ6dp8yO-6"
      ],
      "toc_visible": true
    }
  },
  "cells": [
    {
      "cell_type": "markdown",
      "metadata": {
        "id": "MWq75KiVyO7y",
        "colab_type": "text"
      },
      "source": [
        "# Read LIB"
      ]
    },
    {
      "cell_type": "code",
      "metadata": {
        "id": "LvtJMEDeyO74",
        "colab_type": "code",
        "colab": {}
      },
      "source": [
        "import pandas as pd\n",
        "import matplotlib.pyplot as plt\n",
        "import re\n",
        "import time\n",
        "import warnings\n",
        "import numpy as np\n",
        "from nltk.corpus import stopwords\n",
        "from sklearn.preprocessing import normalize\n",
        "from sklearn.feature_extraction.text import CountVectorizer\n",
        "from sklearn.feature_extraction.text import TfidfVectorizer\n",
        "warnings.filterwarnings(\"ignore\")\n",
        "import sys\n",
        "import os \n",
        "import pandas as pd\n",
        "import numpy as np\n",
        "from tqdm import tqdm\n",
        "\n",
        "# exctract word2vec vectors\n",
        "# https://github.com/explosion/spaCy/issues/1721\n",
        "# http://landinghub.visualstudio.com/visual-cpp-build-tools\n",
        "import spacy"
      ],
      "execution_count": 0,
      "outputs": []
    },
    {
      "cell_type": "code",
      "metadata": {
        "id": "8FEhGNiW6sF3",
        "colab_type": "code",
        "outputId": "2c692735-7f47-4567-f63f-cd1c2b597d55",
        "colab": {
          "base_uri": "https://localhost:8080/",
          "height": 122
        }
      },
      "source": [
        "from google.colab import drive\n",
        "drive.mount('/content/drive')"
      ],
      "execution_count": 0,
      "outputs": [
        {
          "output_type": "stream",
          "text": [
            "Go to this URL in a browser: https://accounts.google.com/o/oauth2/auth?client_id=947318989803-6bn6qk8qdgf4n4g3pfee6491hc0brc4i.apps.googleusercontent.com&redirect_uri=urn%3aietf%3awg%3aoauth%3a2.0%3aoob&response_type=code&scope=email%20https%3a%2f%2fwww.googleapis.com%2fauth%2fdocs.test%20https%3a%2f%2fwww.googleapis.com%2fauth%2fdrive%20https%3a%2f%2fwww.googleapis.com%2fauth%2fdrive.photos.readonly%20https%3a%2f%2fwww.googleapis.com%2fauth%2fpeopleapi.readonly\n",
            "\n",
            "Enter your authorization code:\n",
            "··········\n",
            "Mounted at /content/drive\n"
          ],
          "name": "stdout"
        }
      ]
    },
    {
      "cell_type": "code",
      "metadata": {
        "id": "ptZ6-uS7yO8T",
        "colab_type": "code",
        "colab": {}
      },
      "source": [
        "# avoid decoding problems\n",
        "df = pd.read_csv(\"/content/drive/My Drive/Quora/train.csv\")\n",
        " \n",
        "# encode questions to unicode\n",
        "# https://stackoverflow.com/a/6812069\n",
        "# ----------------- python 2 ---------------------\n",
        "# df['question1'] = df['question1'].apply(lambda x: unicode(str(x),\"utf-8\"))\n",
        "# df['question2'] = df['question2'].apply(lambda x: unicode(str(x),\"utf-8\"))\n",
        "# ----------------- python 3 ---------------------\n",
        "df['question1'] = df['question1'].apply(lambda x: str(x))\n",
        "df['question2'] = df['question2'].apply(lambda x: str(x))"
      ],
      "execution_count": 0,
      "outputs": []
    },
    {
      "cell_type": "code",
      "metadata": {
        "id": "LINnOht2yO8f",
        "colab_type": "code",
        "outputId": "07435274-4139-4cc4-e48f-40df3ed03d7f",
        "colab": {
          "base_uri": "https://localhost:8080/",
          "height": 204
        }
      },
      "source": [
        "df.head()"
      ],
      "execution_count": 0,
      "outputs": [
        {
          "output_type": "execute_result",
          "data": {
            "text/html": [
              "<div>\n",
              "<style scoped>\n",
              "    .dataframe tbody tr th:only-of-type {\n",
              "        vertical-align: middle;\n",
              "    }\n",
              "\n",
              "    .dataframe tbody tr th {\n",
              "        vertical-align: top;\n",
              "    }\n",
              "\n",
              "    .dataframe thead th {\n",
              "        text-align: right;\n",
              "    }\n",
              "</style>\n",
              "<table border=\"1\" class=\"dataframe\">\n",
              "  <thead>\n",
              "    <tr style=\"text-align: right;\">\n",
              "      <th></th>\n",
              "      <th>id</th>\n",
              "      <th>qid1</th>\n",
              "      <th>qid2</th>\n",
              "      <th>question1</th>\n",
              "      <th>question2</th>\n",
              "      <th>is_duplicate</th>\n",
              "    </tr>\n",
              "  </thead>\n",
              "  <tbody>\n",
              "    <tr>\n",
              "      <th>0</th>\n",
              "      <td>0</td>\n",
              "      <td>1</td>\n",
              "      <td>2</td>\n",
              "      <td>What is the step by step guide to invest in sh...</td>\n",
              "      <td>What is the step by step guide to invest in sh...</td>\n",
              "      <td>0</td>\n",
              "    </tr>\n",
              "    <tr>\n",
              "      <th>1</th>\n",
              "      <td>1</td>\n",
              "      <td>3</td>\n",
              "      <td>4</td>\n",
              "      <td>What is the story of Kohinoor (Koh-i-Noor) Dia...</td>\n",
              "      <td>What would happen if the Indian government sto...</td>\n",
              "      <td>0</td>\n",
              "    </tr>\n",
              "    <tr>\n",
              "      <th>2</th>\n",
              "      <td>2</td>\n",
              "      <td>5</td>\n",
              "      <td>6</td>\n",
              "      <td>How can I increase the speed of my internet co...</td>\n",
              "      <td>How can Internet speed be increased by hacking...</td>\n",
              "      <td>0</td>\n",
              "    </tr>\n",
              "    <tr>\n",
              "      <th>3</th>\n",
              "      <td>3</td>\n",
              "      <td>7</td>\n",
              "      <td>8</td>\n",
              "      <td>Why am I mentally very lonely? How can I solve...</td>\n",
              "      <td>Find the remainder when [math]23^{24}[/math] i...</td>\n",
              "      <td>0</td>\n",
              "    </tr>\n",
              "    <tr>\n",
              "      <th>4</th>\n",
              "      <td>4</td>\n",
              "      <td>9</td>\n",
              "      <td>10</td>\n",
              "      <td>Which one dissolve in water quikly sugar, salt...</td>\n",
              "      <td>Which fish would survive in salt water?</td>\n",
              "      <td>0</td>\n",
              "    </tr>\n",
              "  </tbody>\n",
              "</table>\n",
              "</div>"
            ],
            "text/plain": [
              "   id  qid1  ...                                          question2 is_duplicate\n",
              "0   0     1  ...  What is the step by step guide to invest in sh...            0\n",
              "1   1     3  ...  What would happen if the Indian government sto...            0\n",
              "2   2     5  ...  How can Internet speed be increased by hacking...            0\n",
              "3   3     7  ...  Find the remainder when [math]23^{24}[/math] i...            0\n",
              "4   4     9  ...            Which fish would survive in salt water?            0\n",
              "\n",
              "[5 rows x 6 columns]"
            ]
          },
          "metadata": {
            "tags": []
          },
          "execution_count": 4
        }
      ]
    },
    {
      "cell_type": "code",
      "metadata": {
        "id": "0w2Rd2IUyO8n",
        "colab_type": "code",
        "outputId": "1fba10b6-e58e-4247-c06f-c0b0a57614e1",
        "colab": {
          "base_uri": "https://localhost:8080/",
          "height": 34
        }
      },
      "source": [
        "df.shape"
      ],
      "execution_count": 0,
      "outputs": [
        {
          "output_type": "execute_result",
          "data": {
            "text/plain": [
              "(404290, 6)"
            ]
          },
          "metadata": {
            "tags": []
          },
          "execution_count": 5
        }
      ]
    },
    {
      "cell_type": "markdown",
      "metadata": {
        "id": "ng0qydx4yO8s",
        "colab_type": "text"
      },
      "source": [
        "# Load nlp_features_train & df_fe_without_preprocessing_train"
      ]
    },
    {
      "cell_type": "code",
      "metadata": {
        "id": "hAA24y_WyO8t",
        "colab_type": "code",
        "colab": {}
      },
      "source": [
        "#prepro_features_train.csv (Simple Preprocessing Feartures)\n",
        "#nlp_features_train.csv (NLP Features)\n",
        "if os.path.isfile('/content/drive/My Drive/Quora/nlp_features_train.csv'):\n",
        "    dfnlp = pd.read_csv(\"/content/drive/My Drive/Quora/nlp_features_train.csv\",encoding='latin-1')\n",
        "else:\n",
        "    print(\"download nlp_features_train.csv from drive or run previous notebook\")\n",
        "\n",
        "if os.path.isfile('/content/drive/My Drive/Quora/df_fe_without_preprocessing_train.csv'):\n",
        "    dfppro = pd.read_csv(\"/content/drive/My Drive/Quora/df_fe_without_preprocessing_train.csv\",encoding='latin-1')\n",
        "else:\n",
        "    print(\"download df_fe_without_preprocessing_train.csv from drive or run previous notebook\")"
      ],
      "execution_count": 0,
      "outputs": []
    },
    {
      "cell_type": "code",
      "metadata": {
        "id": "wvkHyMX5yO8x",
        "colab_type": "code",
        "outputId": "d41cd312-c1ad-4ab9-fa9d-a13540aacc97",
        "colab": {
          "base_uri": "https://localhost:8080/",
          "height": 34
        }
      },
      "source": [
        "dfnlp.shape\n"
      ],
      "execution_count": 0,
      "outputs": [
        {
          "output_type": "execute_result",
          "data": {
            "text/plain": [
              "(404290, 21)"
            ]
          },
          "metadata": {
            "tags": []
          },
          "execution_count": 7
        }
      ]
    },
    {
      "cell_type": "code",
      "metadata": {
        "id": "cNsHxzFMyO82",
        "colab_type": "code",
        "colab": {}
      },
      "source": [
        "df1 = dfnlp.drop(['qid1','qid2'],axis=1)\n",
        "df2 = dfppro.drop(['qid1','qid2','question1','question2','is_duplicate'],axis=1)\n",
        "df3 = df.drop(['qid1','qid2','question1','question2','is_duplicate'],axis=1)\n"
      ],
      "execution_count": 0,
      "outputs": []
    },
    {
      "cell_type": "code",
      "metadata": {
        "id": "fMytyapyyO88",
        "colab_type": "code",
        "outputId": "38bc8e7c-39dd-45e3-f668-308a8bfba143",
        "colab": {
          "base_uri": "https://localhost:8080/",
          "height": 383
        }
      },
      "source": [
        "df1.head(3)"
      ],
      "execution_count": 0,
      "outputs": [
        {
          "output_type": "execute_result",
          "data": {
            "text/html": [
              "<div>\n",
              "<style scoped>\n",
              "    .dataframe tbody tr th:only-of-type {\n",
              "        vertical-align: middle;\n",
              "    }\n",
              "\n",
              "    .dataframe tbody tr th {\n",
              "        vertical-align: top;\n",
              "    }\n",
              "\n",
              "    .dataframe thead th {\n",
              "        text-align: right;\n",
              "    }\n",
              "</style>\n",
              "<table border=\"1\" class=\"dataframe\">\n",
              "  <thead>\n",
              "    <tr style=\"text-align: right;\">\n",
              "      <th></th>\n",
              "      <th>id</th>\n",
              "      <th>question1</th>\n",
              "      <th>question2</th>\n",
              "      <th>is_duplicate</th>\n",
              "      <th>cwc_min</th>\n",
              "      <th>cwc_max</th>\n",
              "      <th>csc_min</th>\n",
              "      <th>csc_max</th>\n",
              "      <th>ctc_min</th>\n",
              "      <th>ctc_max</th>\n",
              "      <th>last_word_eq</th>\n",
              "      <th>first_word_eq</th>\n",
              "      <th>abs_len_diff</th>\n",
              "      <th>mean_len</th>\n",
              "      <th>token_set_ratio</th>\n",
              "      <th>token_sort_ratio</th>\n",
              "      <th>fuzz_ratio</th>\n",
              "      <th>fuzz_partial_ratio</th>\n",
              "      <th>longest_substr_ratio</th>\n",
              "    </tr>\n",
              "  </thead>\n",
              "  <tbody>\n",
              "    <tr>\n",
              "      <th>0</th>\n",
              "      <td>0</td>\n",
              "      <td>what is the step by step guide to invest in sh...</td>\n",
              "      <td>what is the step by step guide to invest in sh...</td>\n",
              "      <td>0</td>\n",
              "      <td>0.999980</td>\n",
              "      <td>0.833319</td>\n",
              "      <td>0.999983</td>\n",
              "      <td>0.999983</td>\n",
              "      <td>0.916659</td>\n",
              "      <td>0.785709</td>\n",
              "      <td>0.0</td>\n",
              "      <td>1.0</td>\n",
              "      <td>2.0</td>\n",
              "      <td>13.0</td>\n",
              "      <td>100</td>\n",
              "      <td>93</td>\n",
              "      <td>93</td>\n",
              "      <td>100</td>\n",
              "      <td>0.982759</td>\n",
              "    </tr>\n",
              "    <tr>\n",
              "      <th>1</th>\n",
              "      <td>1</td>\n",
              "      <td>what is the story of kohinoor  koh i noor  dia...</td>\n",
              "      <td>what would happen if the indian government sto...</td>\n",
              "      <td>0</td>\n",
              "      <td>0.799984</td>\n",
              "      <td>0.399996</td>\n",
              "      <td>0.749981</td>\n",
              "      <td>0.599988</td>\n",
              "      <td>0.699993</td>\n",
              "      <td>0.466664</td>\n",
              "      <td>0.0</td>\n",
              "      <td>1.0</td>\n",
              "      <td>5.0</td>\n",
              "      <td>12.5</td>\n",
              "      <td>86</td>\n",
              "      <td>63</td>\n",
              "      <td>66</td>\n",
              "      <td>75</td>\n",
              "      <td>0.596154</td>\n",
              "    </tr>\n",
              "    <tr>\n",
              "      <th>2</th>\n",
              "      <td>2</td>\n",
              "      <td>how can i increase the speed of my internet co...</td>\n",
              "      <td>how can internet speed be increased by hacking...</td>\n",
              "      <td>0</td>\n",
              "      <td>0.399992</td>\n",
              "      <td>0.333328</td>\n",
              "      <td>0.399992</td>\n",
              "      <td>0.249997</td>\n",
              "      <td>0.399996</td>\n",
              "      <td>0.285712</td>\n",
              "      <td>0.0</td>\n",
              "      <td>1.0</td>\n",
              "      <td>4.0</td>\n",
              "      <td>12.0</td>\n",
              "      <td>66</td>\n",
              "      <td>66</td>\n",
              "      <td>54</td>\n",
              "      <td>54</td>\n",
              "      <td>0.166667</td>\n",
              "    </tr>\n",
              "  </tbody>\n",
              "</table>\n",
              "</div>"
            ],
            "text/plain": [
              "   id  ... longest_substr_ratio\n",
              "0   0  ...             0.982759\n",
              "1   1  ...             0.596154\n",
              "2   2  ...             0.166667\n",
              "\n",
              "[3 rows x 19 columns]"
            ]
          },
          "metadata": {
            "tags": []
          },
          "execution_count": 9
        }
      ]
    },
    {
      "cell_type": "code",
      "metadata": {
        "id": "YeZbUvLoyO9A",
        "colab_type": "code",
        "outputId": "89cd174c-146b-4be3-de1d-201e0450c2ac",
        "colab": {
          "base_uri": "https://localhost:8080/",
          "height": 148
        }
      },
      "source": [
        "df2.head(2)"
      ],
      "execution_count": 0,
      "outputs": [
        {
          "output_type": "execute_result",
          "data": {
            "text/html": [
              "<div>\n",
              "<style scoped>\n",
              "    .dataframe tbody tr th:only-of-type {\n",
              "        vertical-align: middle;\n",
              "    }\n",
              "\n",
              "    .dataframe tbody tr th {\n",
              "        vertical-align: top;\n",
              "    }\n",
              "\n",
              "    .dataframe thead th {\n",
              "        text-align: right;\n",
              "    }\n",
              "</style>\n",
              "<table border=\"1\" class=\"dataframe\">\n",
              "  <thead>\n",
              "    <tr style=\"text-align: right;\">\n",
              "      <th></th>\n",
              "      <th>id</th>\n",
              "      <th>freq_qid1</th>\n",
              "      <th>freq_qid2</th>\n",
              "      <th>q1len</th>\n",
              "      <th>q2len</th>\n",
              "      <th>q1_n_words</th>\n",
              "      <th>q2_n_words</th>\n",
              "      <th>word_Common</th>\n",
              "      <th>word_Total</th>\n",
              "      <th>word_share</th>\n",
              "      <th>freq_q1+q2</th>\n",
              "      <th>freq_q1-q2</th>\n",
              "    </tr>\n",
              "  </thead>\n",
              "  <tbody>\n",
              "    <tr>\n",
              "      <th>0</th>\n",
              "      <td>0</td>\n",
              "      <td>1</td>\n",
              "      <td>1</td>\n",
              "      <td>66</td>\n",
              "      <td>57</td>\n",
              "      <td>14</td>\n",
              "      <td>12</td>\n",
              "      <td>10.0</td>\n",
              "      <td>23.0</td>\n",
              "      <td>0.434783</td>\n",
              "      <td>2</td>\n",
              "      <td>0</td>\n",
              "    </tr>\n",
              "    <tr>\n",
              "      <th>1</th>\n",
              "      <td>1</td>\n",
              "      <td>4</td>\n",
              "      <td>1</td>\n",
              "      <td>51</td>\n",
              "      <td>88</td>\n",
              "      <td>8</td>\n",
              "      <td>13</td>\n",
              "      <td>4.0</td>\n",
              "      <td>20.0</td>\n",
              "      <td>0.200000</td>\n",
              "      <td>5</td>\n",
              "      <td>3</td>\n",
              "    </tr>\n",
              "  </tbody>\n",
              "</table>\n",
              "</div>"
            ],
            "text/plain": [
              "   id  freq_qid1  freq_qid2  ...  word_share  freq_q1+q2  freq_q1-q2\n",
              "0   0          1          1  ...    0.434783           2           0\n",
              "1   1          4          1  ...    0.200000           5           3\n",
              "\n",
              "[2 rows x 12 columns]"
            ]
          },
          "metadata": {
            "tags": []
          },
          "execution_count": 10
        }
      ]
    },
    {
      "cell_type": "code",
      "metadata": {
        "id": "Nw2fXYKxyO9E",
        "colab_type": "code",
        "outputId": "ea7f89eb-d458-48f6-9f11-d46150e58309",
        "colab": {
          "base_uri": "https://localhost:8080/",
          "height": 142
        }
      },
      "source": [
        "df3.head(3)"
      ],
      "execution_count": 0,
      "outputs": [
        {
          "output_type": "execute_result",
          "data": {
            "text/html": [
              "<div>\n",
              "<style scoped>\n",
              "    .dataframe tbody tr th:only-of-type {\n",
              "        vertical-align: middle;\n",
              "    }\n",
              "\n",
              "    .dataframe tbody tr th {\n",
              "        vertical-align: top;\n",
              "    }\n",
              "\n",
              "    .dataframe thead th {\n",
              "        text-align: right;\n",
              "    }\n",
              "</style>\n",
              "<table border=\"1\" class=\"dataframe\">\n",
              "  <thead>\n",
              "    <tr style=\"text-align: right;\">\n",
              "      <th></th>\n",
              "      <th>id</th>\n",
              "    </tr>\n",
              "  </thead>\n",
              "  <tbody>\n",
              "    <tr>\n",
              "      <th>0</th>\n",
              "      <td>0</td>\n",
              "    </tr>\n",
              "    <tr>\n",
              "      <th>1</th>\n",
              "      <td>1</td>\n",
              "    </tr>\n",
              "    <tr>\n",
              "      <th>2</th>\n",
              "      <td>2</td>\n",
              "    </tr>\n",
              "  </tbody>\n",
              "</table>\n",
              "</div>"
            ],
            "text/plain": [
              "   id\n",
              "0   0\n",
              "1   1\n",
              "2   2"
            ]
          },
          "metadata": {
            "tags": []
          },
          "execution_count": 11
        }
      ]
    },
    {
      "cell_type": "code",
      "metadata": {
        "id": "3l31laCjyO9M",
        "colab_type": "code",
        "outputId": "5a4d3a68-f77a-4d1a-886f-2f74863ff527",
        "colab": {
          "base_uri": "https://localhost:8080/",
          "height": 51
        }
      },
      "source": [
        "print(\"Number of features in nlp dataframe :\", df1.shape[1])\n",
        "print(\"Number of features in preprocessed dataframe :\", df2.shape[1])"
      ],
      "execution_count": 0,
      "outputs": [
        {
          "output_type": "stream",
          "text": [
            "Number of features in nlp dataframe : 19\n",
            "Number of features in preprocessed dataframe : 12\n"
          ],
          "name": "stdout"
        }
      ]
    },
    {
      "cell_type": "markdown",
      "metadata": {
        "id": "Pp-KdZ2IyO9X",
        "colab_type": "text"
      },
      "source": [
        "# Merging featured data"
      ]
    },
    {
      "cell_type": "code",
      "metadata": {
        "id": "qX5CPwkByO9Z",
        "colab_type": "code",
        "outputId": "fc73c217-4d28-4edb-9263-472055f5b604",
        "colab": {
          "base_uri": "https://localhost:8080/",
          "height": 34
        }
      },
      "source": [
        "df1  = df1.merge(df2, on='id',how='left')\n",
        "\n",
        "df1.shape"
      ],
      "execution_count": 0,
      "outputs": [
        {
          "output_type": "execute_result",
          "data": {
            "text/plain": [
              "(404290, 30)"
            ]
          },
          "metadata": {
            "tags": []
          },
          "execution_count": 13
        }
      ]
    },
    {
      "cell_type": "code",
      "metadata": {
        "id": "gU9pq_CMyO9i",
        "colab_type": "code",
        "outputId": "7c1a5339-701a-4693-9ffb-e32ff99de3fd",
        "colab": {
          "base_uri": "https://localhost:8080/",
          "height": 400
        }
      },
      "source": [
        "df1.head(3)"
      ],
      "execution_count": 0,
      "outputs": [
        {
          "output_type": "execute_result",
          "data": {
            "text/html": [
              "<div>\n",
              "<style scoped>\n",
              "    .dataframe tbody tr th:only-of-type {\n",
              "        vertical-align: middle;\n",
              "    }\n",
              "\n",
              "    .dataframe tbody tr th {\n",
              "        vertical-align: top;\n",
              "    }\n",
              "\n",
              "    .dataframe thead th {\n",
              "        text-align: right;\n",
              "    }\n",
              "</style>\n",
              "<table border=\"1\" class=\"dataframe\">\n",
              "  <thead>\n",
              "    <tr style=\"text-align: right;\">\n",
              "      <th></th>\n",
              "      <th>id</th>\n",
              "      <th>question1</th>\n",
              "      <th>question2</th>\n",
              "      <th>is_duplicate</th>\n",
              "      <th>cwc_min</th>\n",
              "      <th>cwc_max</th>\n",
              "      <th>csc_min</th>\n",
              "      <th>csc_max</th>\n",
              "      <th>ctc_min</th>\n",
              "      <th>ctc_max</th>\n",
              "      <th>last_word_eq</th>\n",
              "      <th>first_word_eq</th>\n",
              "      <th>abs_len_diff</th>\n",
              "      <th>mean_len</th>\n",
              "      <th>token_set_ratio</th>\n",
              "      <th>token_sort_ratio</th>\n",
              "      <th>fuzz_ratio</th>\n",
              "      <th>fuzz_partial_ratio</th>\n",
              "      <th>longest_substr_ratio</th>\n",
              "      <th>freq_qid1</th>\n",
              "      <th>freq_qid2</th>\n",
              "      <th>q1len</th>\n",
              "      <th>q2len</th>\n",
              "      <th>q1_n_words</th>\n",
              "      <th>q2_n_words</th>\n",
              "      <th>word_Common</th>\n",
              "      <th>word_Total</th>\n",
              "      <th>word_share</th>\n",
              "      <th>freq_q1+q2</th>\n",
              "      <th>freq_q1-q2</th>\n",
              "    </tr>\n",
              "  </thead>\n",
              "  <tbody>\n",
              "    <tr>\n",
              "      <th>0</th>\n",
              "      <td>0</td>\n",
              "      <td>what is the step by step guide to invest in sh...</td>\n",
              "      <td>what is the step by step guide to invest in sh...</td>\n",
              "      <td>0</td>\n",
              "      <td>0.999980</td>\n",
              "      <td>0.833319</td>\n",
              "      <td>0.999983</td>\n",
              "      <td>0.999983</td>\n",
              "      <td>0.916659</td>\n",
              "      <td>0.785709</td>\n",
              "      <td>0.0</td>\n",
              "      <td>1.0</td>\n",
              "      <td>2.0</td>\n",
              "      <td>13.0</td>\n",
              "      <td>100</td>\n",
              "      <td>93</td>\n",
              "      <td>93</td>\n",
              "      <td>100</td>\n",
              "      <td>0.982759</td>\n",
              "      <td>1</td>\n",
              "      <td>1</td>\n",
              "      <td>66</td>\n",
              "      <td>57</td>\n",
              "      <td>14</td>\n",
              "      <td>12</td>\n",
              "      <td>10.0</td>\n",
              "      <td>23.0</td>\n",
              "      <td>0.434783</td>\n",
              "      <td>2</td>\n",
              "      <td>0</td>\n",
              "    </tr>\n",
              "    <tr>\n",
              "      <th>1</th>\n",
              "      <td>1</td>\n",
              "      <td>what is the story of kohinoor  koh i noor  dia...</td>\n",
              "      <td>what would happen if the indian government sto...</td>\n",
              "      <td>0</td>\n",
              "      <td>0.799984</td>\n",
              "      <td>0.399996</td>\n",
              "      <td>0.749981</td>\n",
              "      <td>0.599988</td>\n",
              "      <td>0.699993</td>\n",
              "      <td>0.466664</td>\n",
              "      <td>0.0</td>\n",
              "      <td>1.0</td>\n",
              "      <td>5.0</td>\n",
              "      <td>12.5</td>\n",
              "      <td>86</td>\n",
              "      <td>63</td>\n",
              "      <td>66</td>\n",
              "      <td>75</td>\n",
              "      <td>0.596154</td>\n",
              "      <td>4</td>\n",
              "      <td>1</td>\n",
              "      <td>51</td>\n",
              "      <td>88</td>\n",
              "      <td>8</td>\n",
              "      <td>13</td>\n",
              "      <td>4.0</td>\n",
              "      <td>20.0</td>\n",
              "      <td>0.200000</td>\n",
              "      <td>5</td>\n",
              "      <td>3</td>\n",
              "    </tr>\n",
              "    <tr>\n",
              "      <th>2</th>\n",
              "      <td>2</td>\n",
              "      <td>how can i increase the speed of my internet co...</td>\n",
              "      <td>how can internet speed be increased by hacking...</td>\n",
              "      <td>0</td>\n",
              "      <td>0.399992</td>\n",
              "      <td>0.333328</td>\n",
              "      <td>0.399992</td>\n",
              "      <td>0.249997</td>\n",
              "      <td>0.399996</td>\n",
              "      <td>0.285712</td>\n",
              "      <td>0.0</td>\n",
              "      <td>1.0</td>\n",
              "      <td>4.0</td>\n",
              "      <td>12.0</td>\n",
              "      <td>66</td>\n",
              "      <td>66</td>\n",
              "      <td>54</td>\n",
              "      <td>54</td>\n",
              "      <td>0.166667</td>\n",
              "      <td>1</td>\n",
              "      <td>1</td>\n",
              "      <td>73</td>\n",
              "      <td>59</td>\n",
              "      <td>14</td>\n",
              "      <td>10</td>\n",
              "      <td>4.0</td>\n",
              "      <td>24.0</td>\n",
              "      <td>0.166667</td>\n",
              "      <td>2</td>\n",
              "      <td>0</td>\n",
              "    </tr>\n",
              "  </tbody>\n",
              "</table>\n",
              "</div>"
            ],
            "text/plain": [
              "   id  ... freq_q1-q2\n",
              "0   0  ...          0\n",
              "1   1  ...          3\n",
              "2   2  ...          0\n",
              "\n",
              "[3 rows x 30 columns]"
            ]
          },
          "metadata": {
            "tags": []
          },
          "execution_count": 14
        }
      ]
    },
    {
      "cell_type": "markdown",
      "metadata": {
        "id": "CGqBrgh8yO9m",
        "colab_type": "text"
      },
      "source": [
        "# Preprocessing of ques1 & ques2"
      ]
    },
    {
      "cell_type": "code",
      "metadata": {
        "id": "MgEm8ZVfyO9p",
        "colab_type": "code",
        "colab": {}
      },
      "source": [
        "df1[\"question1\"] = df1[\"question1\"].fillna(\"\")\n",
        "df1[\"question2\"] = df1[\"question2\"].fillna(\"\")"
      ],
      "execution_count": 0,
      "outputs": []
    },
    {
      "cell_type": "code",
      "metadata": {
        "id": "GU3kmSLmyO9s",
        "colab_type": "code",
        "outputId": "cad1b724-d445-4afd-e2b3-7d7395238870",
        "colab": {
          "base_uri": "https://localhost:8080/",
          "height": 34
        }
      },
      "source": [
        "df1.isnull().any().any()"
      ],
      "execution_count": 0,
      "outputs": [
        {
          "output_type": "execute_result",
          "data": {
            "text/plain": [
              "False"
            ]
          },
          "metadata": {
            "tags": []
          },
          "execution_count": 16
        }
      ]
    },
    {
      "cell_type": "code",
      "metadata": {
        "id": "cbix9Y6dyO9w",
        "colab_type": "code",
        "colab": {}
      },
      "source": [
        "# https://stackoverflow.com/a/47091490/4084039\n",
        "import re\n",
        "\n",
        "def decontracted(phrase):\n",
        "    # specific\n",
        "    phrase = re.sub(r\"won't\", \"will not\", phrase)\n",
        "    phrase = re.sub(r\"can\\'t\", \"can not\", phrase)\n",
        "\n",
        "    # general\n",
        "    phrase = re.sub(r\"n\\'t\", \" not\", phrase)\n",
        "    phrase = re.sub(r\"\\'re\", \" are\", phrase)\n",
        "    phrase = re.sub(r\"\\'s\", \" is\", phrase)\n",
        "    phrase = re.sub(r\"\\'d\", \" would\", phrase)\n",
        "    phrase = re.sub(r\"\\'ll\", \" will\", phrase)\n",
        "    phrase = re.sub(r\"\\'t\", \" not\", phrase)\n",
        "    phrase = re.sub(r\"\\'ve\", \" have\", phrase)\n",
        "    phrase = re.sub(r\"\\'m\", \" am\", phrase)\n",
        "    phrase = re.sub(r\"\\',000,000\", \" m\", phrase)\n",
        "    phrase = re.sub(r\"\\',000\", \" k\", phrase)\n",
        "    phrase = re.sub(r\"\\'₹\", \" rupee\", phrase)\n",
        "    phrase = re.sub(r\"\\'%\", \" percent\", phrase)\n",
        "    phrase = re.sub(r\"\\'$\", \" dollar\", phrase)\n",
        "    \n",
        "    return phrase"
      ],
      "execution_count": 0,
      "outputs": []
    },
    {
      "cell_type": "code",
      "metadata": {
        "id": "OseazdhwyO90",
        "colab_type": "code",
        "outputId": "6bc3eda2-7528-4c9e-b54c-2d41ac027ebb",
        "colab": {
          "base_uri": "https://localhost:8080/",
          "height": 68
        }
      },
      "source": [
        " import nltk\n",
        "nltk.download('stopwords')\n",
        "\n",
        "stopwords = stopwords.words(\"english\")\n",
        "from bs4 import BeautifulSoup\n",
        "from tqdm import tqdm\n",
        "preprocessed_ques1 = []\n",
        "# tqdm is for printing the status bar\n",
        "for sentance in tqdm(df1[\"question1\"].values):\n",
        "    sentance = str(sentance).lower()\n",
        "    sentance = re.sub(r\"http\\S+\", \"\", sentance)\n",
        "    sentance = BeautifulSoup(sentance, 'lxml').get_text()\n",
        "    sentance = decontracted(sentance)\n",
        "    sentance = re.sub(\"\\S*\\d\\S*\", \"\", sentance).strip()\n",
        "    sentance = re.sub('[^A-Za-z]+', ' ', sentance)\n",
        "    \n",
        "    sentance = re.sub(r\"([0-9]+)000000\", r\"\\1m\", sentance)\n",
        "    sentance = re.sub(r\"([0-9]+)000\", r\"\\1k\", sentance)\n",
        "    # https://gist.github.com/sebleier/554280\n",
        "    sentance = ' '.join(e.lower() for e in sentance.split() if e.lower() not in stopwords)\n",
        "    preprocessed_ques1.append(sentance.strip())"
      ],
      "execution_count": 0,
      "outputs": [
        {
          "output_type": "stream",
          "text": [
            "[nltk_data] Downloading package stopwords to /root/nltk_data...\n",
            "[nltk_data]   Unzipping corpora/stopwords.zip.\n"
          ],
          "name": "stdout"
        },
        {
          "output_type": "stream",
          "text": [
            "100%|██████████| 404290/404290 [01:53<00:00, 3569.78it/s]\n"
          ],
          "name": "stderr"
        }
      ]
    },
    {
      "cell_type": "code",
      "metadata": {
        "id": "cEOp0XUvyO99",
        "colab_type": "code",
        "outputId": "db1c999b-3696-478d-9a2d-ca3147715c33",
        "colab": {
          "base_uri": "https://localhost:8080/",
          "height": 34
        }
      },
      "source": [
        "from bs4 import BeautifulSoup\n",
        "from tqdm import tqdm\n",
        "preprocessed_ques2 = []\n",
        "# tqdm is for printing the status bar\n",
        "for sentance in tqdm(df1[\"question2\"].values):\n",
        "    sentance = str(sentance).lower()\n",
        "    sentance = re.sub(r\"http\\S+\", \"\", sentance)\n",
        "    sentance = BeautifulSoup(sentance, 'lxml').get_text()\n",
        "    sentance = decontracted(sentance)\n",
        "    sentance = re.sub(\"\\S*\\d\\S*\", \"\", sentance).strip()\n",
        "    sentance = re.sub('[^A-Za-z]+', ' ', sentance)\n",
        "    \n",
        "    sentance = re.sub(r\"([0-9]+)000000\", r\"\\1m\", sentance)\n",
        "    sentance = re.sub(r\"([0-9]+)000\", r\"\\1k\", sentance)\n",
        "    # https://gist.github.com/sebleier/554280\n",
        "    sentance = ' '.join(e.lower() for e in sentance.split() if e.lower() not in stopwords)\n",
        "    preprocessed_ques2.append(sentance.strip())"
      ],
      "execution_count": 0,
      "outputs": [
        {
          "output_type": "stream",
          "text": [
            "100%|██████████| 404290/404290 [01:55<00:00, 3492.30it/s]\n"
          ],
          "name": "stderr"
        }
      ]
    },
    {
      "cell_type": "code",
      "metadata": {
        "id": "qBtpjYozyO-B",
        "colab_type": "code",
        "outputId": "0319a797-c851-40eb-e993-9c06a7ba6e53",
        "colab": {
          "base_uri": "https://localhost:8080/",
          "height": 400
        }
      },
      "source": [
        "df1[\"preprocessed_q1\"] = preprocessed_ques1\n",
        "df1[\"preprocessed_q2\"] = preprocessed_ques2\n",
        "\n",
        "df1.head(3)"
      ],
      "execution_count": 0,
      "outputs": [
        {
          "output_type": "execute_result",
          "data": {
            "text/html": [
              "<div>\n",
              "<style scoped>\n",
              "    .dataframe tbody tr th:only-of-type {\n",
              "        vertical-align: middle;\n",
              "    }\n",
              "\n",
              "    .dataframe tbody tr th {\n",
              "        vertical-align: top;\n",
              "    }\n",
              "\n",
              "    .dataframe thead th {\n",
              "        text-align: right;\n",
              "    }\n",
              "</style>\n",
              "<table border=\"1\" class=\"dataframe\">\n",
              "  <thead>\n",
              "    <tr style=\"text-align: right;\">\n",
              "      <th></th>\n",
              "      <th>id</th>\n",
              "      <th>question1</th>\n",
              "      <th>question2</th>\n",
              "      <th>is_duplicate</th>\n",
              "      <th>cwc_min</th>\n",
              "      <th>cwc_max</th>\n",
              "      <th>csc_min</th>\n",
              "      <th>csc_max</th>\n",
              "      <th>ctc_min</th>\n",
              "      <th>ctc_max</th>\n",
              "      <th>last_word_eq</th>\n",
              "      <th>first_word_eq</th>\n",
              "      <th>abs_len_diff</th>\n",
              "      <th>mean_len</th>\n",
              "      <th>token_set_ratio</th>\n",
              "      <th>token_sort_ratio</th>\n",
              "      <th>fuzz_ratio</th>\n",
              "      <th>fuzz_partial_ratio</th>\n",
              "      <th>longest_substr_ratio</th>\n",
              "      <th>freq_qid1</th>\n",
              "      <th>freq_qid2</th>\n",
              "      <th>q1len</th>\n",
              "      <th>q2len</th>\n",
              "      <th>q1_n_words</th>\n",
              "      <th>q2_n_words</th>\n",
              "      <th>word_Common</th>\n",
              "      <th>word_Total</th>\n",
              "      <th>word_share</th>\n",
              "      <th>freq_q1+q2</th>\n",
              "      <th>freq_q1-q2</th>\n",
              "      <th>preprocessed_q1</th>\n",
              "      <th>preprocessed_q2</th>\n",
              "    </tr>\n",
              "  </thead>\n",
              "  <tbody>\n",
              "    <tr>\n",
              "      <th>0</th>\n",
              "      <td>0</td>\n",
              "      <td>what is the step by step guide to invest in sh...</td>\n",
              "      <td>what is the step by step guide to invest in sh...</td>\n",
              "      <td>0</td>\n",
              "      <td>0.999980</td>\n",
              "      <td>0.833319</td>\n",
              "      <td>0.999983</td>\n",
              "      <td>0.999983</td>\n",
              "      <td>0.916659</td>\n",
              "      <td>0.785709</td>\n",
              "      <td>0.0</td>\n",
              "      <td>1.0</td>\n",
              "      <td>2.0</td>\n",
              "      <td>13.0</td>\n",
              "      <td>100</td>\n",
              "      <td>93</td>\n",
              "      <td>93</td>\n",
              "      <td>100</td>\n",
              "      <td>0.982759</td>\n",
              "      <td>1</td>\n",
              "      <td>1</td>\n",
              "      <td>66</td>\n",
              "      <td>57</td>\n",
              "      <td>14</td>\n",
              "      <td>12</td>\n",
              "      <td>10.0</td>\n",
              "      <td>23.0</td>\n",
              "      <td>0.434783</td>\n",
              "      <td>2</td>\n",
              "      <td>0</td>\n",
              "      <td>step step guide invest share market india</td>\n",
              "      <td>step step guide invest share market</td>\n",
              "    </tr>\n",
              "    <tr>\n",
              "      <th>1</th>\n",
              "      <td>1</td>\n",
              "      <td>what is the story of kohinoor  koh i noor  dia...</td>\n",
              "      <td>what would happen if the indian government sto...</td>\n",
              "      <td>0</td>\n",
              "      <td>0.799984</td>\n",
              "      <td>0.399996</td>\n",
              "      <td>0.749981</td>\n",
              "      <td>0.599988</td>\n",
              "      <td>0.699993</td>\n",
              "      <td>0.466664</td>\n",
              "      <td>0.0</td>\n",
              "      <td>1.0</td>\n",
              "      <td>5.0</td>\n",
              "      <td>12.5</td>\n",
              "      <td>86</td>\n",
              "      <td>63</td>\n",
              "      <td>66</td>\n",
              "      <td>75</td>\n",
              "      <td>0.596154</td>\n",
              "      <td>4</td>\n",
              "      <td>1</td>\n",
              "      <td>51</td>\n",
              "      <td>88</td>\n",
              "      <td>8</td>\n",
              "      <td>13</td>\n",
              "      <td>4.0</td>\n",
              "      <td>20.0</td>\n",
              "      <td>0.200000</td>\n",
              "      <td>5</td>\n",
              "      <td>3</td>\n",
              "      <td>story kohinoor koh noor diamond</td>\n",
              "      <td>would happen indian government stole kohinoor ...</td>\n",
              "    </tr>\n",
              "    <tr>\n",
              "      <th>2</th>\n",
              "      <td>2</td>\n",
              "      <td>how can i increase the speed of my internet co...</td>\n",
              "      <td>how can internet speed be increased by hacking...</td>\n",
              "      <td>0</td>\n",
              "      <td>0.399992</td>\n",
              "      <td>0.333328</td>\n",
              "      <td>0.399992</td>\n",
              "      <td>0.249997</td>\n",
              "      <td>0.399996</td>\n",
              "      <td>0.285712</td>\n",
              "      <td>0.0</td>\n",
              "      <td>1.0</td>\n",
              "      <td>4.0</td>\n",
              "      <td>12.0</td>\n",
              "      <td>66</td>\n",
              "      <td>66</td>\n",
              "      <td>54</td>\n",
              "      <td>54</td>\n",
              "      <td>0.166667</td>\n",
              "      <td>1</td>\n",
              "      <td>1</td>\n",
              "      <td>73</td>\n",
              "      <td>59</td>\n",
              "      <td>14</td>\n",
              "      <td>10</td>\n",
              "      <td>4.0</td>\n",
              "      <td>24.0</td>\n",
              "      <td>0.166667</td>\n",
              "      <td>2</td>\n",
              "      <td>0</td>\n",
              "      <td>increase speed internet connection using vpn</td>\n",
              "      <td>internet speed increased hacking dns</td>\n",
              "    </tr>\n",
              "  </tbody>\n",
              "</table>\n",
              "</div>"
            ],
            "text/plain": [
              "   id  ...                                    preprocessed_q2\n",
              "0   0  ...                step step guide invest share market\n",
              "1   1  ...  would happen indian government stole kohinoor ...\n",
              "2   2  ...               internet speed increased hacking dns\n",
              "\n",
              "[3 rows x 32 columns]"
            ]
          },
          "metadata": {
            "tags": []
          },
          "execution_count": 20
        }
      ]
    },
    {
      "cell_type": "markdown",
      "metadata": {
        "id": "0OHouM_WyO-F",
        "colab_type": "text"
      },
      "source": [
        "# Train Test Split"
      ]
    },
    {
      "cell_type": "code",
      "metadata": {
        "id": "Ax6PwS78yO-F",
        "colab_type": "code",
        "outputId": "e9e8a930-0d65-456a-d556-2e85c2c8bb94",
        "colab": {
          "base_uri": "https://localhost:8080/",
          "height": 34
        }
      },
      "source": [
        "# Take randomly 100K points\n",
        "\n",
        "df1 = df1.sample(n=100000)\n",
        "\n",
        "df1.shape"
      ],
      "execution_count": 0,
      "outputs": [
        {
          "output_type": "execute_result",
          "data": {
            "text/plain": [
              "(100000, 32)"
            ]
          },
          "metadata": {
            "tags": []
          },
          "execution_count": 21
        }
      ]
    },
    {
      "cell_type": "code",
      "metadata": {
        "id": "LIDVcGK7yO-K",
        "colab_type": "code",
        "outputId": "b79c2094-a30f-4529-d49a-af1b4adc73b0",
        "colab": {
          "base_uri": "https://localhost:8080/",
          "height": 264
        }
      },
      "source": [
        "from sklearn.model_selection import train_test_split\n",
        "\n",
        "df1.drop(df1.index[0],inplace = True)\n",
        "\n",
        "y = df1[\"is_duplicate\"]\n",
        "df1.drop(['is_duplicate',\"question1\",\"question2\"], axis=1, inplace=True)\n",
        "\n",
        "x = df1\n",
        "\n",
        "x.head(3)"
      ],
      "execution_count": 0,
      "outputs": [
        {
          "output_type": "execute_result",
          "data": {
            "text/html": [
              "<div>\n",
              "<style scoped>\n",
              "    .dataframe tbody tr th:only-of-type {\n",
              "        vertical-align: middle;\n",
              "    }\n",
              "\n",
              "    .dataframe tbody tr th {\n",
              "        vertical-align: top;\n",
              "    }\n",
              "\n",
              "    .dataframe thead th {\n",
              "        text-align: right;\n",
              "    }\n",
              "</style>\n",
              "<table border=\"1\" class=\"dataframe\">\n",
              "  <thead>\n",
              "    <tr style=\"text-align: right;\">\n",
              "      <th></th>\n",
              "      <th>id</th>\n",
              "      <th>cwc_min</th>\n",
              "      <th>cwc_max</th>\n",
              "      <th>csc_min</th>\n",
              "      <th>csc_max</th>\n",
              "      <th>ctc_min</th>\n",
              "      <th>ctc_max</th>\n",
              "      <th>last_word_eq</th>\n",
              "      <th>first_word_eq</th>\n",
              "      <th>abs_len_diff</th>\n",
              "      <th>mean_len</th>\n",
              "      <th>token_set_ratio</th>\n",
              "      <th>token_sort_ratio</th>\n",
              "      <th>fuzz_ratio</th>\n",
              "      <th>fuzz_partial_ratio</th>\n",
              "      <th>longest_substr_ratio</th>\n",
              "      <th>freq_qid1</th>\n",
              "      <th>freq_qid2</th>\n",
              "      <th>q1len</th>\n",
              "      <th>q2len</th>\n",
              "      <th>q1_n_words</th>\n",
              "      <th>q2_n_words</th>\n",
              "      <th>word_Common</th>\n",
              "      <th>word_Total</th>\n",
              "      <th>word_share</th>\n",
              "      <th>freq_q1+q2</th>\n",
              "      <th>freq_q1-q2</th>\n",
              "      <th>preprocessed_q1</th>\n",
              "      <th>preprocessed_q2</th>\n",
              "    </tr>\n",
              "  </thead>\n",
              "  <tbody>\n",
              "    <tr>\n",
              "      <th>49299</th>\n",
              "      <td>49299</td>\n",
              "      <td>0.000000</td>\n",
              "      <td>0.000000</td>\n",
              "      <td>0.000000</td>\n",
              "      <td>0.000000</td>\n",
              "      <td>0.000000</td>\n",
              "      <td>0.000000</td>\n",
              "      <td>0.0</td>\n",
              "      <td>0.0</td>\n",
              "      <td>3.0</td>\n",
              "      <td>11.5</td>\n",
              "      <td>45</td>\n",
              "      <td>44</td>\n",
              "      <td>42</td>\n",
              "      <td>43</td>\n",
              "      <td>0.100000</td>\n",
              "      <td>1</td>\n",
              "      <td>1</td>\n",
              "      <td>81</td>\n",
              "      <td>49</td>\n",
              "      <td>13</td>\n",
              "      <td>8</td>\n",
              "      <td>0.0</td>\n",
              "      <td>20.0</td>\n",
              "      <td>0.000000</td>\n",
              "      <td>2</td>\n",
              "      <td>0</td>\n",
              "      <td>necessary strong mathematics base learn machin...</td>\n",
              "      <td>someone decipher meaning batman r p</td>\n",
              "    </tr>\n",
              "    <tr>\n",
              "      <th>75615</th>\n",
              "      <td>75615</td>\n",
              "      <td>0.666656</td>\n",
              "      <td>0.571420</td>\n",
              "      <td>0.666656</td>\n",
              "      <td>0.571420</td>\n",
              "      <td>0.615380</td>\n",
              "      <td>0.499997</td>\n",
              "      <td>0.0</td>\n",
              "      <td>1.0</td>\n",
              "      <td>3.0</td>\n",
              "      <td>14.5</td>\n",
              "      <td>84</td>\n",
              "      <td>82</td>\n",
              "      <td>73</td>\n",
              "      <td>62</td>\n",
              "      <td>0.310811</td>\n",
              "      <td>5</td>\n",
              "      <td>6</td>\n",
              "      <td>96</td>\n",
              "      <td>73</td>\n",
              "      <td>16</td>\n",
              "      <td>12</td>\n",
              "      <td>6.0</td>\n",
              "      <td>25.0</td>\n",
              "      <td>0.240000</td>\n",
              "      <td>11</td>\n",
              "      <td>1</td>\n",
              "      <td>predictions polls wrong results presidential e...</td>\n",
              "      <td>prediction polls u presidential election wrong</td>\n",
              "    </tr>\n",
              "    <tr>\n",
              "      <th>115310</th>\n",
              "      <td>115310</td>\n",
              "      <td>0.499988</td>\n",
              "      <td>0.499988</td>\n",
              "      <td>0.999975</td>\n",
              "      <td>0.799984</td>\n",
              "      <td>0.749991</td>\n",
              "      <td>0.599994</td>\n",
              "      <td>0.0</td>\n",
              "      <td>1.0</td>\n",
              "      <td>2.0</td>\n",
              "      <td>9.0</td>\n",
              "      <td>79</td>\n",
              "      <td>65</td>\n",
              "      <td>75</td>\n",
              "      <td>80</td>\n",
              "      <td>0.652174</td>\n",
              "      <td>5</td>\n",
              "      <td>1</td>\n",
              "      <td>50</td>\n",
              "      <td>45</td>\n",
              "      <td>10</td>\n",
              "      <td>8</td>\n",
              "      <td>6.0</td>\n",
              "      <td>17.0</td>\n",
              "      <td>0.352941</td>\n",
              "      <td>6</td>\n",
              "      <td>4</td>\n",
              "      <td>average height humans world</td>\n",
              "      <td>average height american males</td>\n",
              "    </tr>\n",
              "  </tbody>\n",
              "</table>\n",
              "</div>"
            ],
            "text/plain": [
              "            id  ...                                 preprocessed_q2\n",
              "49299    49299  ...             someone decipher meaning batman r p\n",
              "75615    75615  ...  prediction polls u presidential election wrong\n",
              "115310  115310  ...                   average height american males\n",
              "\n",
              "[3 rows x 29 columns]"
            ]
          },
          "metadata": {
            "tags": []
          },
          "execution_count": 22
        }
      ]
    },
    {
      "cell_type": "code",
      "metadata": {
        "id": "eLOhodhlyO-O",
        "colab_type": "code",
        "outputId": "4c892708-a8c4-4fcb-88e4-b1455a1f5324",
        "colab": {
          "base_uri": "https://localhost:8080/",
          "height": 34
        }
      },
      "source": [
        "x.shape"
      ],
      "execution_count": 0,
      "outputs": [
        {
          "output_type": "execute_result",
          "data": {
            "text/plain": [
              "(99999, 29)"
            ]
          },
          "metadata": {
            "tags": []
          },
          "execution_count": 23
        }
      ]
    },
    {
      "cell_type": "code",
      "metadata": {
        "id": "EBqo45xryO-R",
        "colab_type": "code",
        "colab": {}
      },
      "source": [
        "X_train,X_test, y_train, y_test = train_test_split(x, y, stratify=y, test_size=0.3)\n",
        "\n"
      ],
      "execution_count": 0,
      "outputs": []
    },
    {
      "cell_type": "code",
      "metadata": {
        "id": "jx7EpyD4yO-U",
        "colab_type": "code",
        "outputId": "7f10762b-a1f2-45fc-c457-47f46e1afd94",
        "colab": {
          "base_uri": "https://localhost:8080/",
          "height": 51
        }
      },
      "source": [
        "print(\"Number of data points in train data :\",X_train.shape,y_train.shape)\n",
        "print(\"Number of data points in test data :\",X_test.shape,y_test.shape)"
      ],
      "execution_count": 0,
      "outputs": [
        {
          "output_type": "stream",
          "text": [
            "Number of data points in train data : (69999, 29) (69999,)\n",
            "Number of data points in test data : (30000, 29) (30000,)\n"
          ],
          "name": "stdout"
        }
      ]
    },
    {
      "cell_type": "markdown",
      "metadata": {
        "id": "rlZk3tKGyO-c",
        "colab_type": "text"
      },
      "source": [
        "# Tf-IDf on ques1 & ques 2"
      ]
    },
    {
      "cell_type": "code",
      "metadata": {
        "id": "ZEtvJBvxyO-d",
        "colab_type": "code",
        "outputId": "fc67dec9-18fd-4aea-dd12-f1f07c962edf",
        "colab": {
          "base_uri": "https://localhost:8080/",
          "height": 51
        }
      },
      "source": [
        "# On Clean Essay\n",
        "#from sklearn.preprocessing import normalize\n",
        "from sklearn.feature_extraction.text import TfidfVectorizer\n",
        "\n",
        "vectorizer1 = TfidfVectorizer(ngram_range = (1,4))\n",
        "preprocessed_ques1_tfidf_train = vectorizer1.fit_transform(X_train['preprocessed_q1'])\n",
        "#preprocessed_ques1_tfidf_train = normalize(preprocessed_ques1_tfidf_train,axis = 0)\n",
        "\n",
        "print(\"Shape of matrix after one hot encodig \",preprocessed_ques1_tfidf_train.shape)\n",
        "\n",
        "preprocessed_ques1_tfidf_test = vectorizer1.transform(X_test['preprocessed_q1'])\n",
        "#preprocessed_ques1_tfidf_test = normalize(preprocessed_ques1_tfidf_test,axis = 0)\n",
        "\n",
        "print(\"Shape of matrix after one hot encodig \",preprocessed_ques1_tfidf_test.shape)"
      ],
      "execution_count": 0,
      "outputs": [
        {
          "output_type": "stream",
          "text": [
            "Shape of matrix after one hot encodig  (69999, 562925)\n",
            "Shape of matrix after one hot encodig  (30000, 562925)\n"
          ],
          "name": "stdout"
        }
      ]
    },
    {
      "cell_type": "code",
      "metadata": {
        "id": "RCyHeN2UyO-g",
        "colab_type": "code",
        "outputId": "af1d0a0c-9ed7-420b-90b5-653592d83886",
        "colab": {
          "base_uri": "https://localhost:8080/",
          "height": 51
        }
      },
      "source": [
        "# On Clean_title \n",
        "\n",
        "vectorizer2 = TfidfVectorizer(ngram_range = (1,4))\n",
        "preprocessed_ques2_tfidf_train = vectorizer2.fit_transform(X_train['preprocessed_q2'])\n",
        "#preprocessed_ques2_tfidf_train = normalize(preprocessed_ques2_tfidf_train,axis = 0)\n",
        "\n",
        "print(\"Shape of matrix after one hot encodig \",preprocessed_ques2_tfidf_train.shape)\n",
        "\n",
        "preprocessed_ques2_tfidf_test = vectorizer2.transform(X_test['preprocessed_q2'])\n",
        "#preprocessed_ques2_tfidf_test = normalize(preprocessed_ques2_tfidf_test,axis = 0)\n",
        "\n",
        "print(\"Shape of matrix after one hot encodig \",preprocessed_ques2_tfidf_test.shape)"
      ],
      "execution_count": 0,
      "outputs": [
        {
          "output_type": "stream",
          "text": [
            "Shape of matrix after one hot encodig  (69999, 571515)\n",
            "Shape of matrix after one hot encodig  (30000, 571515)\n"
          ],
          "name": "stdout"
        }
      ]
    },
    {
      "cell_type": "markdown",
      "metadata": {
        "id": "MpCwhEO2yO-k",
        "colab_type": "text"
      },
      "source": [
        "# Take all features together for train our model"
      ]
    },
    {
      "cell_type": "code",
      "metadata": {
        "id": "Z6YD-LR7yO-k",
        "colab_type": "code",
        "outputId": "6bd08f0b-c3a2-4cf1-b86b-f4eeaddf9d05",
        "colab": {
          "base_uri": "https://localhost:8080/",
          "height": 165
        }
      },
      "source": [
        "# Remove undesried columns\n",
        "\n",
        "X_train_idf = X_train.drop(['id','preprocessed_q1','preprocessed_q2'],axis=1,inplace = False)\n",
        "\n",
        "print(X_train_idf.shape)\n",
        "\n",
        "X_train_idf.head(2)"
      ],
      "execution_count": 0,
      "outputs": [
        {
          "output_type": "stream",
          "text": [
            "(69999, 26)\n"
          ],
          "name": "stdout"
        },
        {
          "output_type": "execute_result",
          "data": {
            "text/html": [
              "<div>\n",
              "<style scoped>\n",
              "    .dataframe tbody tr th:only-of-type {\n",
              "        vertical-align: middle;\n",
              "    }\n",
              "\n",
              "    .dataframe tbody tr th {\n",
              "        vertical-align: top;\n",
              "    }\n",
              "\n",
              "    .dataframe thead th {\n",
              "        text-align: right;\n",
              "    }\n",
              "</style>\n",
              "<table border=\"1\" class=\"dataframe\">\n",
              "  <thead>\n",
              "    <tr style=\"text-align: right;\">\n",
              "      <th></th>\n",
              "      <th>cwc_min</th>\n",
              "      <th>cwc_max</th>\n",
              "      <th>csc_min</th>\n",
              "      <th>csc_max</th>\n",
              "      <th>ctc_min</th>\n",
              "      <th>ctc_max</th>\n",
              "      <th>last_word_eq</th>\n",
              "      <th>first_word_eq</th>\n",
              "      <th>abs_len_diff</th>\n",
              "      <th>mean_len</th>\n",
              "      <th>token_set_ratio</th>\n",
              "      <th>token_sort_ratio</th>\n",
              "      <th>fuzz_ratio</th>\n",
              "      <th>fuzz_partial_ratio</th>\n",
              "      <th>longest_substr_ratio</th>\n",
              "      <th>freq_qid1</th>\n",
              "      <th>freq_qid2</th>\n",
              "      <th>q1len</th>\n",
              "      <th>q2len</th>\n",
              "      <th>q1_n_words</th>\n",
              "      <th>q2_n_words</th>\n",
              "      <th>word_Common</th>\n",
              "      <th>word_Total</th>\n",
              "      <th>word_share</th>\n",
              "      <th>freq_q1+q2</th>\n",
              "      <th>freq_q1-q2</th>\n",
              "    </tr>\n",
              "  </thead>\n",
              "  <tbody>\n",
              "    <tr>\n",
              "      <th>312461</th>\n",
              "      <td>0.666644</td>\n",
              "      <td>0.499988</td>\n",
              "      <td>0.999967</td>\n",
              "      <td>0.999967</td>\n",
              "      <td>0.833319</td>\n",
              "      <td>0.714276</td>\n",
              "      <td>1.0</td>\n",
              "      <td>1.0</td>\n",
              "      <td>1.0</td>\n",
              "      <td>6.5</td>\n",
              "      <td>81</td>\n",
              "      <td>79</td>\n",
              "      <td>90</td>\n",
              "      <td>84</td>\n",
              "      <td>0.681818</td>\n",
              "      <td>2</td>\n",
              "      <td>2</td>\n",
              "      <td>48</td>\n",
              "      <td>43</td>\n",
              "      <td>7</td>\n",
              "      <td>6</td>\n",
              "      <td>5.0</td>\n",
              "      <td>13.0</td>\n",
              "      <td>0.384615</td>\n",
              "      <td>4</td>\n",
              "      <td>0</td>\n",
              "    </tr>\n",
              "    <tr>\n",
              "      <th>296943</th>\n",
              "      <td>0.999967</td>\n",
              "      <td>0.999967</td>\n",
              "      <td>0.999967</td>\n",
              "      <td>0.599988</td>\n",
              "      <td>0.999983</td>\n",
              "      <td>0.749991</td>\n",
              "      <td>1.0</td>\n",
              "      <td>1.0</td>\n",
              "      <td>2.0</td>\n",
              "      <td>7.0</td>\n",
              "      <td>100</td>\n",
              "      <td>92</td>\n",
              "      <td>92</td>\n",
              "      <td>85</td>\n",
              "      <td>0.571429</td>\n",
              "      <td>1</td>\n",
              "      <td>2</td>\n",
              "      <td>40</td>\n",
              "      <td>34</td>\n",
              "      <td>8</td>\n",
              "      <td>6</td>\n",
              "      <td>6.0</td>\n",
              "      <td>14.0</td>\n",
              "      <td>0.428571</td>\n",
              "      <td>3</td>\n",
              "      <td>1</td>\n",
              "    </tr>\n",
              "  </tbody>\n",
              "</table>\n",
              "</div>"
            ],
            "text/plain": [
              "         cwc_min   cwc_max   csc_min  ...  word_share  freq_q1+q2  freq_q1-q2\n",
              "312461  0.666644  0.499988  0.999967  ...    0.384615           4           0\n",
              "296943  0.999967  0.999967  0.999967  ...    0.428571           3           1\n",
              "\n",
              "[2 rows x 26 columns]"
            ]
          },
          "metadata": {
            "tags": []
          },
          "execution_count": 28
        }
      ]
    },
    {
      "cell_type": "code",
      "metadata": {
        "id": "kd8vJaRoyO-o",
        "colab_type": "code",
        "outputId": "f706f7aa-5802-42fb-e119-1e0ea3db46cf",
        "colab": {
          "base_uri": "https://localhost:8080/",
          "height": 165
        }
      },
      "source": [
        "# Remove undesried columns\n",
        "\n",
        "X_test_idf = X_test.drop(['id','preprocessed_q1','preprocessed_q2'],axis=1,inplace = False)\n",
        "\n",
        "print(X_test_idf.shape)\n",
        "\n",
        "X_test_idf.head(2)"
      ],
      "execution_count": 0,
      "outputs": [
        {
          "output_type": "stream",
          "text": [
            "(30000, 26)\n"
          ],
          "name": "stdout"
        },
        {
          "output_type": "execute_result",
          "data": {
            "text/html": [
              "<div>\n",
              "<style scoped>\n",
              "    .dataframe tbody tr th:only-of-type {\n",
              "        vertical-align: middle;\n",
              "    }\n",
              "\n",
              "    .dataframe tbody tr th {\n",
              "        vertical-align: top;\n",
              "    }\n",
              "\n",
              "    .dataframe thead th {\n",
              "        text-align: right;\n",
              "    }\n",
              "</style>\n",
              "<table border=\"1\" class=\"dataframe\">\n",
              "  <thead>\n",
              "    <tr style=\"text-align: right;\">\n",
              "      <th></th>\n",
              "      <th>cwc_min</th>\n",
              "      <th>cwc_max</th>\n",
              "      <th>csc_min</th>\n",
              "      <th>csc_max</th>\n",
              "      <th>ctc_min</th>\n",
              "      <th>ctc_max</th>\n",
              "      <th>last_word_eq</th>\n",
              "      <th>first_word_eq</th>\n",
              "      <th>abs_len_diff</th>\n",
              "      <th>mean_len</th>\n",
              "      <th>token_set_ratio</th>\n",
              "      <th>token_sort_ratio</th>\n",
              "      <th>fuzz_ratio</th>\n",
              "      <th>fuzz_partial_ratio</th>\n",
              "      <th>longest_substr_ratio</th>\n",
              "      <th>freq_qid1</th>\n",
              "      <th>freq_qid2</th>\n",
              "      <th>q1len</th>\n",
              "      <th>q2len</th>\n",
              "      <th>q1_n_words</th>\n",
              "      <th>q2_n_words</th>\n",
              "      <th>word_Common</th>\n",
              "      <th>word_Total</th>\n",
              "      <th>word_share</th>\n",
              "      <th>freq_q1+q2</th>\n",
              "      <th>freq_q1-q2</th>\n",
              "    </tr>\n",
              "  </thead>\n",
              "  <tbody>\n",
              "    <tr>\n",
              "      <th>90353</th>\n",
              "      <td>0.599988</td>\n",
              "      <td>0.499992</td>\n",
              "      <td>0.499988</td>\n",
              "      <td>0.399992</td>\n",
              "      <td>0.499995</td>\n",
              "      <td>0.416663</td>\n",
              "      <td>0.0</td>\n",
              "      <td>1.0</td>\n",
              "      <td>2.0</td>\n",
              "      <td>11.0</td>\n",
              "      <td>67</td>\n",
              "      <td>55</td>\n",
              "      <td>43</td>\n",
              "      <td>43</td>\n",
              "      <td>0.254545</td>\n",
              "      <td>2</td>\n",
              "      <td>3</td>\n",
              "      <td>54</td>\n",
              "      <td>65</td>\n",
              "      <td>10</td>\n",
              "      <td>12</td>\n",
              "      <td>5.0</td>\n",
              "      <td>20.0</td>\n",
              "      <td>0.25</td>\n",
              "      <td>5</td>\n",
              "      <td>1</td>\n",
              "    </tr>\n",
              "    <tr>\n",
              "      <th>237131</th>\n",
              "      <td>0.857131</td>\n",
              "      <td>0.857131</td>\n",
              "      <td>0.799984</td>\n",
              "      <td>0.666656</td>\n",
              "      <td>0.714281</td>\n",
              "      <td>0.666662</td>\n",
              "      <td>1.0</td>\n",
              "      <td>0.0</td>\n",
              "      <td>1.0</td>\n",
              "      <td>14.5</td>\n",
              "      <td>91</td>\n",
              "      <td>82</td>\n",
              "      <td>78</td>\n",
              "      <td>83</td>\n",
              "      <td>0.265823</td>\n",
              "      <td>1</td>\n",
              "      <td>1</td>\n",
              "      <td>82</td>\n",
              "      <td>78</td>\n",
              "      <td>15</td>\n",
              "      <td>14</td>\n",
              "      <td>10.0</td>\n",
              "      <td>25.0</td>\n",
              "      <td>0.40</td>\n",
              "      <td>2</td>\n",
              "      <td>0</td>\n",
              "    </tr>\n",
              "  </tbody>\n",
              "</table>\n",
              "</div>"
            ],
            "text/plain": [
              "         cwc_min   cwc_max   csc_min  ...  word_share  freq_q1+q2  freq_q1-q2\n",
              "90353   0.599988  0.499992  0.499988  ...        0.25           5           1\n",
              "237131  0.857131  0.857131  0.799984  ...        0.40           2           0\n",
              "\n",
              "[2 rows x 26 columns]"
            ]
          },
          "metadata": {
            "tags": []
          },
          "execution_count": 29
        }
      ]
    },
    {
      "cell_type": "code",
      "metadata": {
        "id": "3iQxyoKSyO-s",
        "colab_type": "code",
        "outputId": "78af81dd-275d-4073-a99b-d63426faca47",
        "colab": {
          "base_uri": "https://localhost:8080/",
          "height": 136
        }
      },
      "source": [
        "X_train_idf.columns"
      ],
      "execution_count": 0,
      "outputs": [
        {
          "output_type": "execute_result",
          "data": {
            "text/plain": [
              "Index(['cwc_min', 'cwc_max', 'csc_min', 'csc_max', 'ctc_min', 'ctc_max',\n",
              "       'last_word_eq', 'first_word_eq', 'abs_len_diff', 'mean_len',\n",
              "       'token_set_ratio', 'token_sort_ratio', 'fuzz_ratio',\n",
              "       'fuzz_partial_ratio', 'longest_substr_ratio', 'freq_qid1', 'freq_qid2',\n",
              "       'q1len', 'q2len', 'q1_n_words', 'q2_n_words', 'word_Common',\n",
              "       'word_Total', 'word_share', 'freq_q1+q2', 'freq_q1-q2'],\n",
              "      dtype='object')"
            ]
          },
          "metadata": {
            "tags": []
          },
          "execution_count": 30
        }
      ]
    },
    {
      "cell_type": "code",
      "metadata": {
        "id": "Al_tIELpyO-w",
        "colab_type": "code",
        "outputId": "6b2963cb-3ee8-4e6c-afbf-650f51dd4544",
        "colab": {
          "base_uri": "https://localhost:8080/",
          "height": 51
        }
      },
      "source": [
        "# NORMALIZING NUMERICAL FEATURES\n",
        "\n",
        "from sklearn.preprocessing import MinMaxScaler # NORMALIZE\n",
        "\n",
        "mnn=MinMaxScaler(feature_range = (0,1))\n",
        "X_train_num_minmax = mnn.fit_transform(X_train_idf[[ 'cwc_min', 'cwc_max', 'csc_min', 'csc_max', 'ctc_min', 'ctc_max',\n",
        "       'last_word_eq', 'first_word_eq', 'abs_len_diff', 'mean_len',\n",
        "       'token_set_ratio', 'token_sort_ratio', 'fuzz_ratio',\n",
        "       'fuzz_partial_ratio', 'longest_substr_ratio', 'freq_qid1', 'freq_qid2',\n",
        "       'q1len', 'q2len', 'q1_n_words', 'q2_n_words', 'word_Common',\n",
        "       'word_Total', 'word_share', 'freq_q1+q2', 'freq_q1-q2']])\n",
        "\n",
        "X_test_num_minmax = mnn.transform(X_test_idf[[ 'cwc_min', 'cwc_max', 'csc_min', 'csc_max', 'ctc_min', 'ctc_max',\n",
        "       'last_word_eq', 'first_word_eq', 'abs_len_diff', 'mean_len',\n",
        "       'token_set_ratio', 'token_sort_ratio', 'fuzz_ratio',\n",
        "       'fuzz_partial_ratio', 'longest_substr_ratio', 'freq_qid1', 'freq_qid2',\n",
        "       'q1len', 'q2len', 'q1_n_words', 'q2_n_words', 'word_Common',\n",
        "       'word_Total', 'word_share', 'freq_q1+q2', 'freq_q1-q2']])\n",
        "print(X_train_num_minmax.shape)\n",
        "print(X_test_num_minmax.shape)"
      ],
      "execution_count": 0,
      "outputs": [
        {
          "output_type": "stream",
          "text": [
            "(69999, 26)\n",
            "(30000, 26)\n"
          ],
          "name": "stdout"
        }
      ]
    },
    {
      "cell_type": "code",
      "metadata": {
        "id": "urHnozOfyO-0",
        "colab_type": "code",
        "outputId": "56e122a9-c485-409c-f31f-c7a3a62da4cd",
        "colab": {
          "base_uri": "https://localhost:8080/",
          "height": 51
        }
      },
      "source": [
        "# merge tfidf vectors of ques1 , ques2 & and all token features\n",
        "\n",
        "from scipy.sparse import hstack\n",
        "\n",
        "X_train_tfidf = hstack((preprocessed_ques1_tfidf_train,preprocessed_ques2_tfidf_train,X_train_num_minmax))\n",
        "X_test_tfidf = hstack((preprocessed_ques1_tfidf_test,preprocessed_ques2_tfidf_test,X_test_num_minmax))\n",
        "\n",
        "print(\"Number of data points in train data :\",X_train_tfidf.shape)\n",
        "print(\"Number of data points in test data :\",X_test_tfidf.shape)"
      ],
      "execution_count": 0,
      "outputs": [
        {
          "output_type": "stream",
          "text": [
            "Number of data points in train data : (69999, 1134466)\n",
            "Number of data points in test data : (30000, 1134466)\n"
          ],
          "name": "stdout"
        }
      ]
    },
    {
      "cell_type": "markdown",
      "metadata": {
        "id": "7VRJ6dp8yO-6",
        "colab_type": "text"
      },
      "source": [
        "# Train Model Logistic Regression & Linear SVM on TF-IDF VEC\n"
      ]
    },
    {
      "cell_type": "markdown",
      "metadata": {
        "id": "HtIuX6czyO_B",
        "colab_type": "text"
      },
      "source": [
        "# 1. Building a random model (Finding worst-case log-loss) "
      ]
    },
    {
      "cell_type": "code",
      "metadata": {
        "id": "UhDyxImkyO_C",
        "colab_type": "code",
        "outputId": "09112b20-fd3e-4446-d73a-0dc4d0d83912",
        "colab": {
          "base_uri": "https://localhost:8080/",
          "height": 85
        }
      },
      "source": [
        "from collections import Counter\n",
        "\n",
        "print(\"-\"*10, \"Distribution of output variable in train data\", \"-\"*10)\n",
        "train_distr = Counter(y_train)\n",
        "train_len = len(y_train)\n",
        "print(\"Class 0: \",int(train_distr[0])/train_len,\"Class 1: \", int(train_distr[1])/train_len)\n",
        "print(\"-\"*10, \"Distribution of output variable in test data\", \"-\"*10)\n",
        "test_distr = Counter(y_test)\n",
        "test_len = len(y_test)\n",
        "print(\"Class 0: \",int(test_distr[1])/test_len, \"Class 1: \",int(test_distr[1])/test_len)"
      ],
      "execution_count": 0,
      "outputs": [
        {
          "output_type": "stream",
          "text": [
            "---------- Distribution of output variable in train data ----------\n",
            "Class 0:  0.6306804382919756 Class 1:  0.3693195617080244\n",
            "---------- Distribution of output variable in test data ----------\n",
            "Class 0:  0.3693 Class 1:  0.3693\n"
          ],
          "name": "stdout"
        }
      ]
    },
    {
      "cell_type": "code",
      "metadata": {
        "id": "stHYFKVCyO_J",
        "colab_type": "code",
        "colab": {}
      },
      "source": [
        "# This function plots the confusion matrices given y_i, y_i_hat.\n",
        "def plot_confusion_matrix(test_y, predict_y):\n",
        "    C = confusion_matrix(test_y, predict_y)\n",
        "    # C = 9,9 matrix, each cell (i,j) represents number of points of class i are predicted class j\n",
        "    \n",
        "    A =(((C.T)/(C.sum(axis=1))).T)\n",
        "    #divid each element of the confusion matrix with the sum of elements in that column\n",
        "    \n",
        "    # C = [[1, 2],\n",
        "    #     [3, 4]]\n",
        "    # C.T = [[1, 3],\n",
        "    #        [2, 4]]\n",
        "    # C.sum(axis = 1)  axis=0 corresonds to columns and axis=1 corresponds to rows in two diamensional array\n",
        "    # C.sum(axix =1) = [[3, 7]]\n",
        "    # ((C.T)/(C.sum(axis=1))) = [[1/3, 3/7]\n",
        "    #                           [2/3, 4/7]]\n",
        "\n",
        "    # ((C.T)/(C.sum(axis=1))).T = [[1/3, 2/3]\n",
        "    #                           [3/7, 4/7]]\n",
        "    # sum of row elements = 1\n",
        "    \n",
        "    B =(C/C.sum(axis=0))\n",
        "    #divid each element of the confusion matrix with the sum of elements in that row\n",
        "    # C = [[1, 2],\n",
        "    #     [3, 4]]\n",
        "    # C.sum(axis = 0)  axis=0 corresonds to columns and axis=1 corresponds to rows in two diamensional array\n",
        "    # C.sum(axix =0) = [[4, 6]]\n",
        "    # (C/C.sum(axis=0)) = [[1/4, 2/6],\n",
        "    #                      [3/4, 4/6]] \n",
        "    plt.figure(figsize=(20,4))\n",
        "    \n",
        "    labels = [1,2]\n",
        "    # representing A in heatmap format\n",
        "    cmap=sns.light_palette(\"blue\")\n",
        "    plt.subplot(1, 3, 1)\n",
        "    sns.heatmap(C, annot=True, cmap=cmap, fmt=\".3f\", xticklabels=labels, yticklabels=labels)\n",
        "    plt.xlabel('Predicted Class')\n",
        "    plt.ylabel('Original Class')\n",
        "    plt.title(\"Confusion matrix\")\n",
        "    \n",
        "    plt.subplot(1, 3, 2)\n",
        "    sns.heatmap(B, annot=True, cmap=cmap, fmt=\".3f\", xticklabels=labels, yticklabels=labels)\n",
        "    plt.xlabel('Predicted Class')\n",
        "    plt.ylabel('Original Class')\n",
        "    plt.title(\"Precision matrix\")\n",
        "    \n",
        "    plt.subplot(1, 3, 3)\n",
        "    # representing B in heatmap format\n",
        "    sns.heatmap(A, annot=True, cmap=cmap, fmt=\".3f\", xticklabels=labels, yticklabels=labels)\n",
        "    plt.xlabel('Predicted Class')\n",
        "    plt.ylabel('Original Class')\n",
        "    plt.title(\"Recall matrix\")\n",
        "    \n",
        "    plt.show()"
      ],
      "execution_count": 0,
      "outputs": []
    },
    {
      "cell_type": "code",
      "metadata": {
        "id": "IizRJ0RryO_Z",
        "colab_type": "code",
        "outputId": "f3ada8db-92e1-4857-a437-c592570e5df4",
        "colab": {
          "base_uri": "https://localhost:8080/",
          "height": 258
        }
      },
      "source": [
        "from sklearn.metrics import log_loss\n",
        "from sklearn.metrics import confusion_matrix\n",
        "import seaborn as sns\n",
        "\n",
        "# we need to generate 9 numbers and the sum of numbers should be 1\n",
        "# one solution is to genarate 9 numbers and divide each of the numbers by their sum\n",
        "# ref: https://stackoverflow.com/a/18662466/4084039\n",
        "# we create a output array that has exactly same size as the CV data\n",
        "predicted_y = np.zeros((test_len,2))\n",
        "for i in range(test_len):\n",
        "    rand_probs = np.random.rand(1,2)\n",
        "    predicted_y[i] = ((rand_probs/sum(sum(rand_probs)))[0])\n",
        "print(\"Log loss on Test Data using Random Model\",log_loss(y_test, predicted_y, eps=1e-15))\n",
        "\n",
        "predicted_y =np.argmax(predicted_y, axis=1)\n",
        "plot_confusion_matrix(y_test, predicted_y)"
      ],
      "execution_count": 0,
      "outputs": [
        {
          "output_type": "stream",
          "text": [
            "Log loss on Test Data using Random Model 0.8843933056800091\n"
          ],
          "name": "stdout"
        },
        {
          "output_type": "display_data",
          "data": {
            "image/png": "[encoded data removed]",
            "text/plain": [
              "<Figure size 1440x288 with 6 Axes>"
            ]
          },
          "metadata": {
            "tags": [],
            "needs_background": "light"
          }
        }
      ]
    },
    {
      "cell_type": "markdown",
      "metadata": {
        "id": "DMH8QntzyO_j",
        "colab_type": "text"
      },
      "source": [
        "# 2. Logistic Regression with hyperparameter tuning "
      ]
    },
    {
      "cell_type": "code",
      "metadata": {
        "id": "tCtyXVV_yO_k",
        "colab_type": "code",
        "outputId": "722ed55c-6b29-4458-f633-774ce3b269e6",
        "colab": {
          "base_uri": "https://localhost:8080/",
          "height": 729
        }
      },
      "source": [
        "from sklearn.linear_model import SGDClassifier\n",
        "from sklearn.calibration import CalibratedClassifierCV\n",
        "import math\n",
        "\n",
        "alpha = [10 ** x for x in range(-7, 2)] # hyperparam for SGD classifier.\n",
        "\n",
        "\n",
        "log_error_array=[]\n",
        "for i in alpha:\n",
        "    clf = SGDClassifier(alpha=i, penalty='l2',class_weight = \"balanced\", loss='log', random_state=21,n_jobs=6)\n",
        "    clf.fit(X_train_tfidf, y_train)\n",
        "    sig_clf = CalibratedClassifierCV(clf, method=\"sigmoid\",cv=10)\n",
        "    sig_clf.fit(X_train_tfidf, y_train)\n",
        "    predict_y = sig_clf.predict_proba(X_test_tfidf)\n",
        "    log_error_array.append(log_loss(y_test, predict_y, labels=clf.classes_, eps=1e-15))\n",
        "    print('For values of alpha = ', i, \"The log loss is:\",log_loss(y_test, predict_y, labels=clf.classes_, eps=1e-15))\n",
        "\n",
        "    \n",
        "    \n",
        "a = [math.log10(10 ** x) for x in range(-7, 2)]\n",
        "fig, ax = plt.subplots()\n",
        "ax.plot(a, log_error_array,c='g')\n",
        "for i, txt in enumerate(np.round(log_error_array,3)):\n",
        "    ax.annotate((alpha[i],np.round(txt,3)), (alpha[i],log_error_array[i]))\n",
        "plt.grid()\n",
        "plt.title(\"Cross Validation Error for each alpha\")\n",
        "plt.xlabel(\"Log_Alpha i's\")\n",
        "plt.ylabel(\"Error measure\")\n",
        "plt.show()\n",
        "\n",
        "\n",
        "best_alpha = np.argmin(log_error_array)\n",
        "clf = SGDClassifier(alpha=alpha[best_alpha], penalty='l2', loss='log', random_state=21,n_jobs=6)\n",
        "clf.fit(X_train_tfidf, y_train)\n",
        "sig_clf = CalibratedClassifierCV(clf, method=\"sigmoid\",cv=10)\n",
        "sig_clf.fit(X_train_tfidf, y_train)\n",
        "\n",
        "predict_y = sig_clf.predict_proba(X_train_tfidf)\n",
        "print('For values of best alpha = ', alpha[best_alpha], \"The train log loss is:\",log_loss(y_train, predict_y, labels=clf.classes_, eps=1e-15))\n",
        "predict_y = sig_clf.predict_proba(X_test_tfidf)\n",
        "print('For values of best alpha = ', alpha[best_alpha], \"The test log loss is:\",log_loss(y_test, predict_y, labels=clf.classes_, eps=1e-15))\n",
        "predicted_y =np.argmax(predict_y,axis=1)\n",
        "print(\"Total number of data points :\", len(predicted_y))\n",
        "plot_confusion_matrix(y_test, predicted_y)"
      ],
      "execution_count": 0,
      "outputs": [
        {
          "output_type": "stream",
          "text": [
            "For values of alpha =  1e-07 The log loss is: 0.4090589414979204\n",
            "For values of alpha =  1e-06 The log loss is: 0.3988868712159295\n",
            "For values of alpha =  1e-05 The log loss is: 0.3732089367531055\n",
            "For values of alpha =  0.0001 The log loss is: 0.3966685627213073\n",
            "For values of alpha =  0.001 The log loss is: 0.45614761824363353\n",
            "For values of alpha =  0.01 The log loss is: 0.5144611465087484\n",
            "For values of alpha =  0.1 The log loss is: 0.5468180090148933\n",
            "For values of alpha =  1 The log loss is: 0.5576752494145414\n",
            "For values of alpha =  10 The log loss is: 0.5648109551588324\n"
          ],
          "name": "stdout"
        },
        {
          "output_type": "display_data",
          "data": {
            "image/png": "[encoded data removed]",
            "text/plain": [
              "<Figure size 432x288 with 1 Axes>"
            ]
          },
          "metadata": {
            "tags": [],
            "needs_background": "light"
          }
        },
        {
          "output_type": "stream",
          "text": [
            "For values of best alpha =  1e-05 The train log loss is: 0.20766144260191635\n",
            "For values of best alpha =  1e-05 The test log loss is: 0.37265288130795304\n",
            "Total number of data points : 30000\n"
          ],
          "name": "stdout"
        },
        {
          "output_type": "display_data",
          "data": {
            "image/png": "[encoded data removed]",
            "text/plain": [
              "<Figure size 1440x288 with 6 Axes>"
            ]
          },
          "metadata": {
            "tags": [],
            "needs_background": "light"
          }
        }
      ]
    },
    {
      "cell_type": "markdown",
      "metadata": {
        "id": "ovLHlq8syO_r",
        "colab_type": "text"
      },
      "source": [
        "# 3. Linear SVM with hyperparameter tuning"
      ]
    },
    {
      "cell_type": "code",
      "metadata": {
        "id": "ZKT1yr4hyO_s",
        "colab_type": "code",
        "outputId": "14ea0627-8a9d-46bd-8e66-dfd18f02ed69",
        "colab": {
          "base_uri": "https://localhost:8080/",
          "height": 746
        }
      },
      "source": [
        "alpha = [10 ** x for x in range(-8, 2)]\n",
        "\n",
        "\n",
        "log_error_array=[]\n",
        "for i in alpha:\n",
        "    clf = SGDClassifier(alpha=i,class_weight = \"balanced\", penalty='l1', loss='hinge', random_state=21,n_jobs=6)\n",
        "    clf.fit(X_train_tfidf, y_train)\n",
        "    sig_clf = CalibratedClassifierCV(clf, method=\"sigmoid\")\n",
        "    sig_clf.fit(X_train_tfidf, y_train)\n",
        "    predict_y = sig_clf.predict_proba(X_test_tfidf)\n",
        "    log_error_array.append(log_loss(y_test, predict_y, labels=clf.classes_, eps=1e-15))\n",
        "    print('For values of alpha = ', i, \"The log loss is:\",log_loss(y_test, predict_y, labels=clf.classes_, eps=1e-15))\n",
        "\n",
        "a = [math.log10(10 ** x) for x in range(-8, 2)]\n",
        "fig, ax = plt.subplots()\n",
        "ax.plot(a, log_error_array,c='g')\n",
        "for i, txt in enumerate(np.round(log_error_array,3)):\n",
        "    ax.annotate((alpha[i],np.round(txt,3)), (alpha[i],log_error_array[i]))\n",
        "plt.grid()\n",
        "plt.title(\"Cross Validation Error for each alpha\")\n",
        "plt.xlabel(\"Log_Alpha i's\")\n",
        "plt.ylabel(\"Error measure\")\n",
        "plt.show()\n",
        "\n",
        "\n",
        "best_alpha = np.argmin(log_error_array)\n",
        "clf = SGDClassifier(alpha=alpha[best_alpha], penalty='l1', loss='hinge', random_state=21,n_jobs=6)\n",
        "clf.fit(X_train_tfidf, y_train)\n",
        "sig_clf = CalibratedClassifierCV(clf, method=\"sigmoid\",cv=10)\n",
        "sig_clf.fit(X_train_tfidf, y_train)\n",
        "\n",
        "predict_y = sig_clf.predict_proba(X_train_tfidf)\n",
        "print('For values of best alpha = ', alpha[best_alpha], \"The train log loss is:\",log_loss(y_train, predict_y, labels=clf.classes_, eps=1e-15))\n",
        "predict_y = sig_clf.predict_proba(X_test_tfidf)\n",
        "print('For values of best alpha = ', alpha[best_alpha], \"The test log loss is:\",log_loss(y_test, predict_y, labels=clf.classes_, eps=1e-15))\n",
        "predicted_y =np.argmax(predict_y,axis=1)\n",
        "print(\"Total number of data points :\", len(predicted_y))\n",
        "plot_confusion_matrix(y_test, predicted_y)"
      ],
      "execution_count": 0,
      "outputs": [
        {
          "output_type": "stream",
          "text": [
            "For values of alpha =  1e-08 The log loss is: 0.4009639274867782\n",
            "For values of alpha =  1e-07 The log loss is: 0.40706390804075987\n",
            "For values of alpha =  1e-06 The log loss is: 0.4090866426118164\n",
            "For values of alpha =  1e-05 The log loss is: 0.40039631792530084\n",
            "For values of alpha =  0.0001 The log loss is: 0.3966156632120013\n",
            "For values of alpha =  0.001 The log loss is: 0.45747612197543475\n",
            "For values of alpha =  0.01 The log loss is: 0.5229013836460963\n",
            "For values of alpha =  0.1 The log loss is: 0.6058619839160266\n",
            "For values of alpha =  1 The log loss is: 0.6585820784107572\n",
            "For values of alpha =  10 The log loss is: 0.6585820784107572\n"
          ],
          "name": "stdout"
        },
        {
          "output_type": "display_data",
          "data": {
            "image/png": "[encoded data removed]",
            "text/plain": [
              "<Figure size 432x288 with 1 Axes>"
            ]
          },
          "metadata": {
            "tags": [],
            "needs_background": "light"
          }
        },
        {
          "output_type": "stream",
          "text": [
            "For values of best alpha =  0.0001 The train log loss is: 0.40335956197719486\n",
            "For values of best alpha =  0.0001 The test log loss is: 0.39884298301400073\n",
            "Total number of data points : 30000\n"
          ],
          "name": "stdout"
        },
        {
          "output_type": "display_data",
          "data": {
            "image/png": "[encoded data removed]",
            "text/plain": [
              "<Figure size 1440x288 with 6 Axes>"
            ]
          },
          "metadata": {
            "tags": [],
            "needs_background": "light"
          }
        }
      ]
    },
    {
      "cell_type": "markdown",
      "metadata": {
        "id": "CnOGwaJhyPAE",
        "colab_type": "text"
      },
      "source": [
        "# TFIDF-W2V (make own WORD VEC)\n",
        "\n"
      ]
    },
    {
      "cell_type": "code",
      "metadata": {
        "id": "gLp5oQoqXmQE",
        "colab_type": "code",
        "outputId": "8dc1159d-53b5-4d00-f3da-8d9f192d8e05",
        "colab": {
          "base_uri": "https://localhost:8080/",
          "height": 102
        }
      },
      "source": [
        "!apt install rsync"
      ],
      "execution_count": 0,
      "outputs": [
        {
          "output_type": "stream",
          "text": [
            "Reading package lists... Done\n",
            "Building dependency tree       \n",
            "Reading state information... Done\n",
            "rsync is already the newest version (3.1.2-2.1ubuntu1.1).\n",
            "0 upgraded, 0 newly installed, 0 to remove and 25 not upgraded.\n"
          ],
          "name": "stdout"
        }
      ]
    },
    {
      "cell_type": "code",
      "metadata": {
        "id": "QTBf24czX7jp",
        "colab_type": "code",
        "colab": {}
      },
      "source": [
        "!unzip -q \"/content/drive/My Drive/Copy of glove.42B.300d.zip\""
      ],
      "execution_count": 0,
      "outputs": []
    },
    {
      "cell_type": "markdown",
      "metadata": {
        "id": "YGzzkBRJbNkZ",
        "colab_type": "text"
      },
      "source": [
        "downloading 'glove.6B.200d.txt' from kaggle due to 'glove.42B.300d.zip' is taking more time to compute."
      ]
    },
    {
      "cell_type": "code",
      "metadata": {
        "id": "TijyTI3nyPAF",
        "colab_type": "code",
        "outputId": "6da5ede3-2406-48ea-a6cd-e028e7486932",
        "colab": {
          "base_uri": "https://localhost:8080/",
          "height": 68
        }
      },
      "source": [
        "def loadGloveModel(gloveFile):\n",
        "    print (\"Loading Glove Model\")\n",
        "    f = open(gloveFile,'r', encoding=\"utf8\")\n",
        "    model = {}\n",
        "    for line in tqdm(f):\n",
        "        splitLine = line.split()\n",
        "        word = splitLine[0]\n",
        "        embedding = np.array([float(val) for val in splitLine[1:]])\n",
        "        model[word] = embedding\n",
        "    print (\"Done.\",len(model),\" words loaded!\")\n",
        "    return model\n",
        "model = loadGloveModel('/content/glove.42B.300d.txt')"
      ],
      "execution_count": 0,
      "outputs": [
        {
          "output_type": "stream",
          "text": [
            "864it [00:00, 8637.27it/s]"
          ],
          "name": "stderr"
        },
        {
          "output_type": "stream",
          "text": [
            "Loading Glove Model\n"
          ],
          "name": "stdout"
        },
        {
          "output_type": "stream",
          "text": [
            "1917495it [03:09, 10092.94it/s]"
          ],
          "name": "stderr"
        },
        {
          "output_type": "stream",
          "text": [
            "Done. 1917495  words loaded!\n"
          ],
          "name": "stdout"
        },
        {
          "output_type": "stream",
          "text": [
            "\n"
          ],
          "name": "stderr"
        }
      ]
    },
    {
      "cell_type": "code",
      "metadata": {
        "id": "XSAhhLeDyPAL",
        "colab_type": "code",
        "outputId": "1ad5050a-eb53-4f00-d7e2-8362f68af094",
        "colab": {
          "base_uri": "https://localhost:8080/",
          "height": 85
        }
      },
      "source": [
        "words = []\n",
        "for i in X_train['preprocessed_q1'].values:\n",
        "    words.extend(i.split(' '))\n",
        "\n",
        "for i in X_train['preprocessed_q2']:\n",
        "    words.extend(i.split(' '))\n",
        "print(\"all the words in the coupus\", len(words))\n",
        "words = set(words)\n",
        "print(\"the unique words in the coupus\", len(words))\n",
        "\n",
        "inter_words = set(model.keys()).intersection(words)\n",
        "print(\"The number of words that are present in both glove vectors and our coupus\", \\\n",
        "      len(inter_words),\"(\",np.round(len(inter_words)/len(words)*100,3),\"%)\")\n",
        "\n",
        "words_courpus = {}\n",
        "words_glove = set(model.keys())\n",
        "for i in words:\n",
        "    if i in words_glove:\n",
        "        words_courpus[i] = model[i]\n",
        "print(\"word 2 vec length\", len(words_courpus))"
      ],
      "execution_count": 0,
      "outputs": [
        {
          "output_type": "stream",
          "text": [
            "all the words in the coupus 755815\n",
            "the unique words in the coupus 36846\n",
            "The number of words that are present in both glove vectors and our coupus 34665 ( 94.081 %)\n",
            "word 2 vec length 34665\n"
          ],
          "name": "stdout"
        }
      ]
    },
    {
      "cell_type": "code",
      "metadata": {
        "id": "AET4dOySyPAR",
        "colab_type": "code",
        "colab": {}
      },
      "source": [
        "import pickle\n",
        "with open('/content/glove_vectors', 'wb') as f:\n",
        "    pickle.dump(words_courpus, f)\n"
      ],
      "execution_count": 0,
      "outputs": []
    },
    {
      "cell_type": "code",
      "metadata": {
        "id": "Vh84r1LwyPAX",
        "colab_type": "code",
        "colab": {}
      },
      "source": [
        "# stronging variables into pickle files python: http://www.jessicayung.com/how-to-use-pickle-to-save-and-load-variables-in-python/\n",
        "# make sure you have the glove_vectors file\n",
        "with open('/content/glove_vectors', 'rb') as f:\n",
        "    model = pickle.load(f)\n",
        "    glove_words =  set(model.keys())"
      ],
      "execution_count": 0,
      "outputs": []
    },
    {
      "cell_type": "code",
      "metadata": {
        "id": "xyZYgI9iyPAc",
        "colab_type": "code",
        "colab": {}
      },
      "source": [
        "# S = [\"abc def pqr\", \"def def def abc\", \"pqr pqr def\"]\n",
        "tfidf_model = TfidfVectorizer(min_df = 5,ngram_range = (1,4),max_features=10000)\n",
        "tfidf_model.fit(X_train['preprocessed_q1'])\n",
        "# we are converting a dictionary with word as a key, and the idf as a value\n",
        "dictionary = dict(zip(tfidf_model.get_feature_names(), list(tfidf_model.idf_)))\n",
        "tfidf_words = set(tfidf_model.get_feature_names())"
      ],
      "execution_count": 0,
      "outputs": []
    },
    {
      "cell_type": "code",
      "metadata": {
        "id": "vY3Sv9ZfyPAi",
        "colab_type": "code",
        "outputId": "287e10d2-0754-4c00-8fcd-3e3fa6127236",
        "colab": {
          "base_uri": "https://localhost:8080/",
          "height": 68
        }
      },
      "source": [
        "# average Word2Vec\n",
        "# compute average word2vec for each review.\n",
        "X_train_tfidf_w2v_vectors_q1 = []; # the avg-w2v for each sentence/review is stored in this list\n",
        "for sentence in tqdm(X_train['preprocessed_q1']): # for each review/sentence\n",
        "    vector = np.zeros(300) # as word vectors are of zero length\n",
        "    tf_idf_weight =0; # num of words with a valid vector in the sentence/review\n",
        "    for word in sentence.split(): # for each word in a review/sentence\n",
        "        if (word in glove_words) and (word in tfidf_words):\n",
        "            vec = model[word] # getting the vector for each word\n",
        "            # here we are multiplying idf value(dictionary[word]) and the tf value((sentence.count(word)/len(sentence.split())))\n",
        "            tf_idf = dictionary[word]*(sentence.count(word)/len(sentence.split())) # getting the tfidf value for each word\n",
        "            vector += (vec * tf_idf) # calculating tfidf weighted w2v\n",
        "            tf_idf_weight += tf_idf\n",
        "    if tf_idf_weight != 0:\n",
        "        vector /= tf_idf_weight\n",
        "    X_train_tfidf_w2v_vectors_q1.append(vector)\n",
        "\n",
        "print(len(X_train_tfidf_w2v_vectors_q1))\n",
        "print(len(X_train_tfidf_w2v_vectors_q1[0]))\n",
        "\n",
        "X_train_tfidf_w2v_vectors_q1 = normalize(X_train_tfidf_w2v_vectors_q1,axis=0)"
      ],
      "execution_count": 0,
      "outputs": [
        {
          "output_type": "stream",
          "text": [
            "100%|██████████| 69999/69999 [00:03<00:00, 18993.34it/s]\n"
          ],
          "name": "stderr"
        },
        {
          "output_type": "stream",
          "text": [
            "69999\n",
            "300\n"
          ],
          "name": "stdout"
        }
      ]
    },
    {
      "cell_type": "code",
      "metadata": {
        "id": "bq0i08vgyPAn",
        "colab_type": "code",
        "outputId": "bf4434bf-5d89-414d-983f-bafcbbee9e79",
        "colab": {
          "base_uri": "https://localhost:8080/",
          "height": 68
        }
      },
      "source": [
        "# average Word2Vec\n",
        "# compute average word2vec for each review.\n",
        "X_test_tfidf_w2v_vectors_q1 = []; # the avg-w2v for each sentence/review is stored in this list\n",
        "for sentence in tqdm(X_test['preprocessed_q1']): # for each review/sentence\n",
        "    vector = np.zeros(300) # as word vectors are of zero length\n",
        "    tf_idf_weight =0; # num of words with a valid vector in the sentence/review\n",
        "    for word in sentence.split(): # for each word in a review/sentence\n",
        "        if (word in glove_words) and (word in tfidf_words):\n",
        "            vec = model[word] # getting the vector for each word\n",
        "            # here we are multiplying idf value(dictionary[word]) and the tf value((sentence.count(word)/len(sentence.split())))\n",
        "            tf_idf = dictionary[word]*(sentence.count(word)/len(sentence.split())) # getting the tfidf value for each word\n",
        "            vector += (vec * tf_idf) # calculating tfidf weighted w2v\n",
        "            tf_idf_weight += tf_idf\n",
        "    if tf_idf_weight != 0:\n",
        "        vector /= tf_idf_weight\n",
        "    X_test_tfidf_w2v_vectors_q1.append(vector)\n",
        "\n",
        "print(len(X_test_tfidf_w2v_vectors_q1))\n",
        "print(len(X_test_tfidf_w2v_vectors_q1[0]))\n",
        "\n",
        "X_test_tfidf_w2v_vectors_q1 = normalize(X_test_tfidf_w2v_vectors_q1,axis=0)"
      ],
      "execution_count": 0,
      "outputs": [
        {
          "output_type": "stream",
          "text": [
            "100%|██████████| 30000/30000 [00:01<00:00, 19443.08it/s]\n"
          ],
          "name": "stderr"
        },
        {
          "output_type": "stream",
          "text": [
            "30000\n",
            "300\n"
          ],
          "name": "stdout"
        }
      ]
    },
    {
      "cell_type": "code",
      "metadata": {
        "id": "taxpnYRayPAt",
        "colab_type": "code",
        "colab": {}
      },
      "source": [
        "# S = [\"abc def pqr\", \"def def def abc\", \"pqr pqr def\"]\n",
        "tfidf_model2 = TfidfVectorizer(min_df = 5,ngram_range = (1,4),max_features=10000)\n",
        "tfidf_model2.fit(X_train['preprocessed_q2'])\n",
        "# we are converting a dictionary with word as a key, and the idf as a value\n",
        "dictionary = dict(zip(tfidf_model2.get_feature_names(), list(tfidf_model2.idf_)))\n",
        "tfidf_words2 = set(tfidf_model2.get_feature_names())"
      ],
      "execution_count": 0,
      "outputs": []
    },
    {
      "cell_type": "code",
      "metadata": {
        "id": "6KonNB1zyPAz",
        "colab_type": "code",
        "outputId": "b958fea4-7b83-417f-d6d0-93768ff70110",
        "colab": {
          "base_uri": "https://localhost:8080/",
          "height": 68
        }
      },
      "source": [
        "# average Word2Vec\n",
        "# compute average word2vec for each review.\n",
        "X_train_tfidf_w2v_vectors_q2 = []; # the avg-w2v for each sentence/review is stored in this list\n",
        "for sentence in tqdm(X_train['preprocessed_q2']): # for each review/sentence\n",
        "    vector = np.zeros(300) # as word vectors are of zero length\n",
        "    tf_idf_weight =0; # num of words with a valid vector in the sentence/review\n",
        "    for word in sentence.split(): # for each word in a review/sentence\n",
        "        if (word in glove_words) and (word in tfidf_words2):\n",
        "            vec = model[word] # getting the vector for each word\n",
        "            # here we are multiplying idf value(dictionary[word]) and the tf value((sentence.count(word)/len(sentence.split())))\n",
        "            tf_idf = dictionary[word]*(sentence.count(word)/len(sentence.split())) # getting the tfidf value for each word\n",
        "            vector += (vec * tf_idf) # calculating tfidf weighted w2v\n",
        "            tf_idf_weight += tf_idf\n",
        "    if tf_idf_weight != 0:\n",
        "        vector /= tf_idf_weight\n",
        "    X_train_tfidf_w2v_vectors_q2.append(vector)\n",
        "\n",
        "print(len(X_train_tfidf_w2v_vectors_q2))\n",
        "print(len(X_train_tfidf_w2v_vectors_q2[0]))\n",
        "\n",
        "X_train_tfidf_w2v_vectors_q2 = normalize(X_train_tfidf_w2v_vectors_q2,axis=0)"
      ],
      "execution_count": 0,
      "outputs": [
        {
          "output_type": "stream",
          "text": [
            "100%|██████████| 69999/69999 [00:03<00:00, 18321.74it/s]\n"
          ],
          "name": "stderr"
        },
        {
          "output_type": "stream",
          "text": [
            "69999\n",
            "300\n"
          ],
          "name": "stdout"
        }
      ]
    },
    {
      "cell_type": "code",
      "metadata": {
        "id": "PSAkfezMyPA2",
        "colab_type": "code",
        "outputId": "36156df4-8bfd-4aaf-cd7e-a6373fff1057",
        "colab": {
          "base_uri": "https://localhost:8080/",
          "height": 68
        }
      },
      "source": [
        "# average Word2Vec\n",
        "# compute average word2vec for each review.\n",
        "X_test_tfidf_w2v_vectors_q2 = []; # the avg-w2v for each sentence/review is stored in this list\n",
        "for sentence in tqdm(X_test['preprocessed_q2']): # for each review/sentence\n",
        "    vector = np.zeros(300) # as word vectors are of zero length\n",
        "    tf_idf_weight =0; # num of words with a valid vector in the sentence/review\n",
        "    for word in sentence.split(): # for each word in a review/sentence\n",
        "        if (word in glove_words) and (word in tfidf_words2):\n",
        "            vec = model[word] # getting the vector for each word\n",
        "            # here we are multiplying idf value(dictionary[word]) and the tf value((sentence.count(word)/len(sentence.split())))\n",
        "            tf_idf = dictionary[word]*(sentence.count(word)/len(sentence.split())) # getting the tfidf value for each word\n",
        "            vector += (vec * tf_idf) # calculating tfidf weighted w2v\n",
        "            tf_idf_weight += tf_idf\n",
        "    if tf_idf_weight != 0:\n",
        "        vector /= tf_idf_weight\n",
        "    X_test_tfidf_w2v_vectors_q2.append(vector)\n",
        "\n",
        "print(len(X_test_tfidf_w2v_vectors_q2))\n",
        "print(len(X_test_tfidf_w2v_vectors_q2[0]))\n",
        "\n",
        "X_test_tfidf_w2v_vectors_q2 = normalize(X_test_tfidf_w2v_vectors_q2,axis=0)"
      ],
      "execution_count": 0,
      "outputs": [
        {
          "output_type": "stream",
          "text": [
            "100%|██████████| 30000/30000 [00:01<00:00, 17987.50it/s]\n"
          ],
          "name": "stderr"
        },
        {
          "output_type": "stream",
          "text": [
            "30000\n",
            "300\n"
          ],
          "name": "stdout"
        }
      ]
    },
    {
      "cell_type": "code",
      "metadata": {
        "id": "iCpaSlQTyPA5",
        "colab_type": "code",
        "outputId": "ecfc0ba2-93b5-4a8e-f428-9fd350d08d95",
        "colab": {
          "base_uri": "https://localhost:8080/",
          "height": 51
        }
      },
      "source": [
        "# Merge TFIDF-W2v and all other tokenized features\n",
        "\n",
        "X_train_tfidf_w2v = np.hstack((X_train_tfidf_w2v_vectors_q1,X_train_tfidf_w2v_vectors_q2,X_train_num_minmax))\n",
        "\n",
        "X_test_tfidf_w2v = np.hstack((X_test_tfidf_w2v_vectors_q1,X_test_tfidf_w2v_vectors_q2,X_test_num_minmax))\n",
        "\n",
        "print(X_train_tfidf_w2v.shape)\n",
        "print(X_test_tfidf_w2v.shape)"
      ],
      "execution_count": 0,
      "outputs": [
        {
          "output_type": "stream",
          "text": [
            "(69999, 626)\n",
            "(30000, 626)\n"
          ],
          "name": "stdout"
        }
      ]
    },
    {
      "cell_type": "markdown",
      "metadata": {
        "id": "D3oalcXFyPA8",
        "colab_type": "text"
      },
      "source": [
        "\n",
        "\n",
        "\n",
        "# Train model using TFIDF - W2V"
      ]
    },
    {
      "cell_type": "code",
      "metadata": {
        "scrolled": true,
        "id": "dt_UIpbeyPA-",
        "colab_type": "code",
        "outputId": "f2804ac3-cfa1-4ed7-a639-de1a3efd36f0",
        "colab": {
          "base_uri": "https://localhost:8080/",
          "height": 901
        }
      },
      "source": [
        "import xgboost as xgb\n",
        "from sklearn.model_selection import RandomizedSearchCV\n",
        "\n",
        "params={\n",
        "        \"max_depth\"               : [ 3, 4, 5, 6, 8, 10, 12, 15,20],\n",
        "        \"min_child_weight\"        : [0.5, 1.0, 3.0, 5.0, 7.0, 10.0],\n",
        "       \n",
        "  }\n",
        "estimator1 = xgb.XGBClassifier(objective= 'binary:logistic',\n",
        "eval_metric= 'logloss',scale_pos_weight = 1)\n",
        "Rsearch1= RandomizedSearchCV(estimator1,param_distributions=params,scoring='neg_log_loss',n_jobs=-1,iid=False,  cv=5,verbose=21,random_state=21)\n",
        "Rsearch1.fit(X_train_tfidf_w2v,y_train)\n",
        "Rsearch1.best_params_, Rsearch1.best_score_\n"
      ],
      "execution_count": 0,
      "outputs": [
        {
          "output_type": "stream",
          "text": [
            "Fitting 5 folds for each of 10 candidates, totalling 50 fits\n"
          ],
          "name": "stdout"
        },
        {
          "output_type": "stream",
          "text": [
            "[Parallel(n_jobs=-1)]: Using backend LokyBackend with 2 concurrent workers.\n",
            "[Parallel(n_jobs=-1)]: Done   1 tasks      | elapsed:  8.9min\n",
            "[Parallel(n_jobs=-1)]: Done   2 tasks      | elapsed:  9.0min\n",
            "[Parallel(n_jobs=-1)]: Done   3 tasks      | elapsed: 17.7min\n",
            "[Parallel(n_jobs=-1)]: Done   4 tasks      | elapsed: 17.8min\n",
            "[Parallel(n_jobs=-1)]: Done   5 tasks      | elapsed: 26.4min\n",
            "[Parallel(n_jobs=-1)]: Done   6 tasks      | elapsed: 47.7min\n",
            "[Parallel(n_jobs=-1)]: Done   7 tasks      | elapsed: 56.2min\n",
            "[Parallel(n_jobs=-1)]: Done   8 tasks      | elapsed: 77.6min\n",
            "[Parallel(n_jobs=-1)]: Done   9 tasks      | elapsed: 86.1min\n",
            "[Parallel(n_jobs=-1)]: Done  10 tasks      | elapsed: 107.2min\n",
            "[Parallel(n_jobs=-1)]: Done  11 tasks      | elapsed: 116.8min\n",
            "[Parallel(n_jobs=-1)]: Done  12 tasks      | elapsed: 137.7min\n",
            "[Parallel(n_jobs=-1)]: Done  13 tasks      | elapsed: 147.5min\n",
            "[Parallel(n_jobs=-1)]: Done  14 tasks      | elapsed: 168.5min\n",
            "[Parallel(n_jobs=-1)]: Done  15 tasks      | elapsed: 177.6min\n",
            "[Parallel(n_jobs=-1)]: Done  16 tasks      | elapsed: 186.5min\n",
            "[Parallel(n_jobs=-1)]: Done  17 tasks      | elapsed: 195.5min\n",
            "[Parallel(n_jobs=-1)]: Done  18 tasks      | elapsed: 204.3min\n",
            "[Parallel(n_jobs=-1)]: Done  19 tasks      | elapsed: 213.5min\n",
            "[Parallel(n_jobs=-1)]: Done  20 tasks      | elapsed: 222.0min\n",
            "[Parallel(n_jobs=-1)]: Done  21 tasks      | elapsed: 224.5min\n",
            "[Parallel(n_jobs=-1)]: Done  22 tasks      | elapsed: 233.0min\n",
            "[Parallel(n_jobs=-1)]: Done  23 tasks      | elapsed: 235.5min\n",
            "[Parallel(n_jobs=-1)]: Done  24 tasks      | elapsed: 244.0min\n",
            "[Parallel(n_jobs=-1)]: Done  25 tasks      | elapsed: 246.4min\n",
            "[Parallel(n_jobs=-1)]: Done  26 tasks      | elapsed: 250.6min\n",
            "[Parallel(n_jobs=-1)]: Done  27 tasks      | elapsed: 253.0min\n",
            "[Parallel(n_jobs=-1)]: Done  28 tasks      | elapsed: 257.1min\n",
            "[Parallel(n_jobs=-1)]: Done  29 tasks      | elapsed: 259.5min\n",
            "[Parallel(n_jobs=-1)]: Done  30 tasks      | elapsed: 263.6min\n",
            "[Parallel(n_jobs=-1)]: Done  31 tasks      | elapsed: 272.6min\n",
            "[Parallel(n_jobs=-1)]: Done  32 tasks      | elapsed: 276.6min\n",
            "[Parallel(n_jobs=-1)]: Done  33 tasks      | elapsed: 285.7min\n",
            "[Parallel(n_jobs=-1)]: Done  34 tasks      | elapsed: 289.8min\n",
            "[Parallel(n_jobs=-1)]: Done  35 tasks      | elapsed: 298.0min\n",
            "[Parallel(n_jobs=-1)]: Done  36 tasks      | elapsed: 310.6min\n",
            "[Parallel(n_jobs=-1)]: Done  37 tasks      | elapsed: 318.3min\n",
            "[Parallel(n_jobs=-1)]: Done  38 tasks      | elapsed: 330.7min\n",
            "[Parallel(n_jobs=-1)]: Done  39 tasks      | elapsed: 338.2min\n",
            "[Parallel(n_jobs=-1)]: Done  40 tasks      | elapsed: 347.8min\n",
            "[Parallel(n_jobs=-1)]: Done  41 tasks      | elapsed: 350.2min\n",
            "[Parallel(n_jobs=-1)]: Done  42 tasks      | elapsed: 357.3min\n",
            "[Parallel(n_jobs=-1)]: Done  43 tasks      | elapsed: 359.7min\n",
            "[Parallel(n_jobs=-1)]: Done  44 tasks      | elapsed: 366.8min\n",
            "[Parallel(n_jobs=-1)]: Done  45 tasks      | elapsed: 369.1min\n",
            "[Parallel(n_jobs=-1)]: Done  46 tasks      | elapsed: 397.5min\n",
            "[Parallel(n_jobs=-1)]: Done  47 tasks      | elapsed: 399.4min\n",
            "[Parallel(n_jobs=-1)]: Done  50 out of  50 | elapsed: 445.7min remaining:    0.0s\n",
            "[Parallel(n_jobs=-1)]: Done  50 out of  50 | elapsed: 445.7min finished\n"
          ],
          "name": "stderr"
        },
        {
          "output_type": "execute_result",
          "data": {
            "text/plain": [
              "({'max_depth': 8, 'min_child_weight': 1.0}, -0.33185418056896093)"
            ]
          },
          "metadata": {
            "tags": []
          },
          "execution_count": 46
        }
      ]
    },
    {
      "cell_type": "code",
      "metadata": {
        "id": "d3zonfguyPBC",
        "colab_type": "code",
        "outputId": "5b482c14-24ad-4e57-9f0a-687c8d451e2e",
        "colab": {
          "base_uri": "https://localhost:8080/",
          "height": 51
        }
      },
      "source": [
        "w=Rsearch1.best_params_[\"min_child_weight\"]\n",
        "d=Rsearch1.best_params_['max_depth']\n",
        "print(w)\n",
        "print(d)"
      ],
      "execution_count": 0,
      "outputs": [
        {
          "output_type": "stream",
          "text": [
            "1.0\n",
            "8\n"
          ],
          "name": "stdout"
        }
      ]
    },
    {
      "cell_type": "code",
      "metadata": {
        "scrolled": true,
        "id": "X3RgrVnuyPBI",
        "colab_type": "code",
        "outputId": "3f7a9798-812a-491b-9388-a7fb383639df",
        "colab": {
          "base_uri": "https://localhost:8080/",
          "height": 901
        }
      },
      "source": [
        "import xgboost as xgb\n",
        "from sklearn.model_selection import RandomizedSearchCV\n",
        "\n",
        "params={\n",
        "\n",
        " \"colsample_bytree\"        : [0.4, 0.5, 0.6, 0.7, 0.8, 0.9, 1.0],\n",
        " 'subsample'               :[0.5, 0.6, 0.7, 0.8, 0.9, 1.0],\n",
        " \n",
        "  }\n",
        "estimator2 =xgb.XGBClassifier(objective= 'binary:logistic',\n",
        "eval_metric= 'logloss',scale_pos_weight = 1,random_state=21,min_child_weight = w,max_depth = d)\n",
        "Rsearch2= RandomizedSearchCV(estimator2,param_distributions=params,scoring='neg_log_loss',n_jobs=-1,iid=False, cv=5,verbose=21,random_state=21)\n",
        "Rsearch2.fit(X_train_tfidf_w2v,y_train)\n",
        "Rsearch2.best_params_, Rsearch2.best_score_\n"
      ],
      "execution_count": 0,
      "outputs": [
        {
          "output_type": "stream",
          "text": [
            "Fitting 5 folds for each of 10 candidates, totalling 50 fits\n"
          ],
          "name": "stdout"
        },
        {
          "output_type": "stream",
          "text": [
            "[Parallel(n_jobs=-1)]: Using backend LokyBackend with 2 concurrent workers.\n",
            "[Parallel(n_jobs=-1)]: Done   1 tasks      | elapsed: 15.0min\n",
            "[Parallel(n_jobs=-1)]: Done   2 tasks      | elapsed: 15.0min\n",
            "[Parallel(n_jobs=-1)]: Done   3 tasks      | elapsed: 29.9min\n",
            "[Parallel(n_jobs=-1)]: Done   4 tasks      | elapsed: 30.1min\n",
            "[Parallel(n_jobs=-1)]: Done   5 tasks      | elapsed: 38.3min\n",
            "[Parallel(n_jobs=-1)]: Done   6 tasks      | elapsed: 44.5min\n",
            "[Parallel(n_jobs=-1)]: Done   7 tasks      | elapsed: 46.4min\n",
            "[Parallel(n_jobs=-1)]: Done   8 tasks      | elapsed: 52.7min\n",
            "[Parallel(n_jobs=-1)]: Done   9 tasks      | elapsed: 54.6min\n",
            "[Parallel(n_jobs=-1)]: Done  10 tasks      | elapsed: 60.8min\n",
            "[Parallel(n_jobs=-1)]: Done  11 tasks      | elapsed: 62.6min\n",
            "[Parallel(n_jobs=-1)]: Done  12 tasks      | elapsed: 68.9min\n",
            "[Parallel(n_jobs=-1)]: Done  13 tasks      | elapsed: 70.7min\n",
            "[Parallel(n_jobs=-1)]: Done  14 tasks      | elapsed: 77.0min\n",
            "[Parallel(n_jobs=-1)]: Done  15 tasks      | elapsed: 78.7min\n",
            "[Parallel(n_jobs=-1)]: Done  16 tasks      | elapsed: 86.6min\n",
            "[Parallel(n_jobs=-1)]: Done  17 tasks      | elapsed: 88.3min\n",
            "[Parallel(n_jobs=-1)]: Done  18 tasks      | elapsed: 96.2min\n",
            "[Parallel(n_jobs=-1)]: Done  19 tasks      | elapsed: 97.9min\n",
            "[Parallel(n_jobs=-1)]: Done  20 tasks      | elapsed: 105.7min\n",
            "[Parallel(n_jobs=-1)]: Done  21 tasks      | elapsed: 109.7min\n",
            "[Parallel(n_jobs=-1)]: Done  22 tasks      | elapsed: 117.5min\n",
            "[Parallel(n_jobs=-1)]: Done  23 tasks      | elapsed: 121.4min\n",
            "[Parallel(n_jobs=-1)]: Done  24 tasks      | elapsed: 129.4min\n",
            "[Parallel(n_jobs=-1)]: Done  25 tasks      | elapsed: 133.1min\n",
            "[Parallel(n_jobs=-1)]: Done  26 tasks      | elapsed: 136.3min\n",
            "[Parallel(n_jobs=-1)]: Done  27 tasks      | elapsed: 139.9min\n",
            "[Parallel(n_jobs=-1)]: Done  28 tasks      | elapsed: 143.1min\n",
            "[Parallel(n_jobs=-1)]: Done  29 tasks      | elapsed: 146.7min\n",
            "[Parallel(n_jobs=-1)]: Done  30 tasks      | elapsed: 149.9min\n",
            "[Parallel(n_jobs=-1)]: Done  31 tasks      | elapsed: 160.5min\n",
            "[Parallel(n_jobs=-1)]: Done  32 tasks      | elapsed: 163.7min\n",
            "[Parallel(n_jobs=-1)]: Done  33 tasks      | elapsed: 174.2min\n",
            "[Parallel(n_jobs=-1)]: Done  34 tasks      | elapsed: 177.3min\n",
            "[Parallel(n_jobs=-1)]: Done  35 tasks      | elapsed: 187.7min\n",
            "[Parallel(n_jobs=-1)]: Done  36 tasks      | elapsed: 190.2min\n",
            "[Parallel(n_jobs=-1)]: Done  37 tasks      | elapsed: 200.7min\n",
            "[Parallel(n_jobs=-1)]: Done  38 tasks      | elapsed: 203.1min\n",
            "[Parallel(n_jobs=-1)]: Done  39 tasks      | elapsed: 213.6min\n",
            "[Parallel(n_jobs=-1)]: Done  40 tasks      | elapsed: 215.8min\n",
            "[Parallel(n_jobs=-1)]: Done  41 tasks      | elapsed: 222.1min\n",
            "[Parallel(n_jobs=-1)]: Done  42 tasks      | elapsed: 224.2min\n",
            "[Parallel(n_jobs=-1)]: Done  43 tasks      | elapsed: 230.5min\n",
            "[Parallel(n_jobs=-1)]: Done  44 tasks      | elapsed: 232.7min\n",
            "[Parallel(n_jobs=-1)]: Done  45 tasks      | elapsed: 238.9min\n",
            "[Parallel(n_jobs=-1)]: Done  46 tasks      | elapsed: 243.6min\n",
            "[Parallel(n_jobs=-1)]: Done  47 tasks      | elapsed: 249.8min\n",
            "[Parallel(n_jobs=-1)]: Done  50 out of  50 | elapsed: 263.6min remaining:    0.0s\n",
            "[Parallel(n_jobs=-1)]: Done  50 out of  50 | elapsed: 263.6min finished\n"
          ],
          "name": "stderr"
        },
        {
          "output_type": "execute_result",
          "data": {
            "text/plain": [
              "({'colsample_bytree': 0.5, 'subsample': 1.0}, -0.33100446991814236)"
            ]
          },
          "metadata": {
            "tags": []
          },
          "execution_count": 48
        }
      ]
    },
    {
      "cell_type": "code",
      "metadata": {
        "id": "pAh2cTJZyPBO",
        "colab_type": "code",
        "colab": {}
      },
      "source": [
        "c=Rsearch2.best_params_[\"colsample_bytree\"]\n",
        "s=Rsearch2.best_params_['subsample']"
      ],
      "execution_count": 0,
      "outputs": []
    },
    {
      "cell_type": "code",
      "metadata": {
        "id": "9PghgU1_yPBf",
        "colab_type": "code",
        "outputId": "4fb43cf0-7022-4b66-dbbd-29e7d4360f39",
        "colab": {
          "base_uri": "https://localhost:8080/",
          "height": 297
        }
      },
      "source": [
        "# train Final Xgboost model using all tunned hyperParameters\n",
        "\n",
        "import xgboost as xgb\n",
        "from sklearn.metrics import log_loss\n",
        "from sklearn.metrics import confusion_matrix\n",
        "import seaborn as sns\n",
        "\n",
        "estimator =xgb.XGBClassifier(objective= 'binary:logistic',\n",
        "eval_metric= 'logloss',scale_pos_weight = 1,random_state=21,min_child_weight = w,max_depth = d,colsample_bytree = c, subsample = s)\n",
        "estimator.fit(X_train_tfidf_w2v,y_train)\n",
        "\n",
        "predict_y = estimator.predict_proba(X_train_tfidf_w2v)\n",
        "print(\"The train log loss is:\",log_loss(y_train, predict_y, labels=estimator.classes_, eps=1e-15))\n",
        "\n",
        "predict_y = estimator.predict_proba(X_test_tfidf_w2v)\n",
        "print(\"The test log loss is:\", log_loss(y_test, predict_y, labels=estimator.classes_, eps=1e-15))\n",
        "\n",
        "predicted_y =np.argmax(predict_y,axis=1)\n",
        "print(\"Total number of data points :\", len(predicted_y))\n",
        "plot_confusion_matrix(y_test, predicted_y)"
      ],
      "execution_count": 0,
      "outputs": [
        {
          "output_type": "stream",
          "text": [
            "The train log loss is: 0.20681258070377484\n",
            "The test log loss is: 0.348692281844108\n",
            "Total number of data points : 30000\n"
          ],
          "name": "stdout"
        },
        {
          "output_type": "display_data",
          "data": {
            "image/png": "[encoded data removed]",
            "text/plain": [
              "<Figure size 1440x288 with 6 Axes>"
            ]
          },
          "metadata": {
            "tags": [],
            "needs_background": "light"
          }
        }
      ]
    },
    {
      "cell_type": "code",
      "metadata": {
        "id": "rz3u3rTiBNZ7",
        "colab_type": "code",
        "colab": {
          "base_uri": "https://localhost:8080/",
          "height": 187
        },
        "outputId": "4c8dfdb1-8486-45a1-8185-6f2ece4dbfc2"
      },
      "source": [
        "from prettytable import PrettyTable\n",
        "\n",
        "ptable = PrettyTable()\n",
        "\n",
        "ptable.title = \" Model Comparision \"\n",
        "ptable.field_names = ['Serial No.', 'Model Name', 'Tokenizer','Hyperparameter Tunning', 'Test Log Loss']\n",
        "ptable.add_row([\"1\",\"Random\",\"TFIDF\",\"-\",\"0.88\"])\n",
        "ptable.add_row([\"2\",\"Logistic Regression\",\"TFIDF Weighted W2V\",\"Done\",\"0.37\"])\n",
        "ptable.add_row([\"3\",\"Linear SVM\",\"TFIDF Weighted W2V\",\"Done\",\"0.39\"])\n",
        "\n",
        "ptable.add_row([\"\\n\",\"\\n\",\"\\n\",\"\\n\",\"\\n\"])\n",
        "\n",
        "\n",
        "ptable.add_row([\"1\",\"XGBoost\",\"TFIDF Weighted W2V\",\"Done\",\"0.35\"])\n",
        "print(ptable)"
      ],
      "execution_count": 1,
      "outputs": [
        {
          "output_type": "stream",
          "text": [
            "+------------+---------------------+--------------------+------------------------+---------------+\n",
            "| Serial No. |      Model Name     |     Tokenizer      | Hyperparameter Tunning | Test Log Loss |\n",
            "+------------+---------------------+--------------------+------------------------+---------------+\n",
            "|     1      |        Random       |       TFIDF        |           -            |      0.88     |\n",
            "|     2      | Logistic Regression | TFIDF Weighted W2V |          Done          |      0.37     |\n",
            "|     3      |      Linear SVM     | TFIDF Weighted W2V |          Done          |      0.39     |\n",
            "|            |                     |                    |                        |               |\n",
            "|            |                     |                    |                        |               |\n",
            "|     1      |       XGBoost       | TFIDF Weighted W2V |          Done          |      0.35     |\n",
            "+------------+---------------------+--------------------+------------------------+---------------+\n"
          ],
          "name": "stdout"
        }
      ]
    }
  ]
}